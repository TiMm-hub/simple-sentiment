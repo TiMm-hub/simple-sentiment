{
 "cells": [
  {
   "cell_type": "code",
   "execution_count": 1,
   "metadata": {},
   "outputs": [],
   "source": [
    "from bs4 import BeautifulSoup\n",
    "import requests\n",
    "import time"
   ]
  },
  {
   "cell_type": "code",
   "execution_count": 2,
   "metadata": {},
   "outputs": [
    {
     "name": "stderr",
     "output_type": "stream",
     "text": [
      "\n",
      "\n",
      "====== WebDriver manager ======\n",
      "Current google-chrome version is 97.0.4692\n",
      "Get LATEST chromedriver version for 97.0.4692 google-chrome\n",
      "Driver [C:\\Users\\Kevin Wong 0413\\.wdm\\drivers\\chromedriver\\win32\\97.0.4692.71\\chromedriver.exe] found in cache\n"
     ]
    }
   ],
   "source": [
    "from selenium import webdriver\n",
    "from webdriver_manager.chrome import ChromeDriverManager\n",
    "\n",
    "driver = webdriver.Chrome(ChromeDriverManager().install())\n",
    "driver.get('http://www.aastocks.com/en/stocks/news/aafn-company-news')\n",
    "time.sleep(2)\n",
    "''' execute_script(\"window.scrollBy(x-pixels,y-pixels)\")\n",
    "    scroll down the page by  1000 pixel vertical\n",
    "'''\n",
    "for i in range(50):\n",
    "    driver.execute_script(\"window.scrollBy(0,2000)\")\n",
    "    time.sleep(0.5)\n"
   ]
  },
  {
   "cell_type": "markdown",
   "metadata": {},
   "source": [
    "## Parse data"
   ]
  },
  {
   "cell_type": "code",
   "execution_count": 3,
   "metadata": {
    "tags": []
   },
   "outputs": [],
   "source": [
    "\n",
    "# Make a GET request to fetch the raw HTML content\n",
    "\n",
    "soup = BeautifulSoup(driver.page_source, \"lxml\")\n",
    "\n",
    "#soup = BeautifulSoup(requests.post(url, data=data).content, 'html.parser')\n",
    "# Parse the html content\n",
    "#soup = BeautifulSoup(html_content, \"lxml\")\n",
    " # print the parsed data of html"
   ]
  },
  {
   "cell_type": "markdown",
   "metadata": {},
   "source": [
    "### headline"
   ]
  },
  {
   "cell_type": "code",
   "execution_count": 4,
   "metadata": {
    "tags": []
   },
   "outputs": [],
   "source": [
    "data = soup.find(\"div\", attrs={\"id\": \"aafn-search-c1\"}).find_all(\"a\",href=True)[0:]"
   ]
  },
  {
   "cell_type": "code",
   "execution_count": 5,
   "metadata": {
    "tags": []
   },
   "outputs": [
    {
     "data": {
      "text/plain": [
       "0"
      ]
     },
     "execution_count": 5,
     "metadata": {},
     "output_type": "execute_result"
    }
   ],
   "source": [
    "len(data[0].text)"
   ]
  },
  {
   "cell_type": "code",
   "execution_count": 6,
   "metadata": {},
   "outputs": [
    {
     "data": {
      "text/plain": [
       "'/en/stocks/news/aafn-con/NOW.1155219/company-news'"
      ]
     },
     "execution_count": 6,
     "metadata": {},
     "output_type": "execute_result"
    }
   ],
   "source": [
    "data[0]['href']"
   ]
  },
  {
   "cell_type": "code",
   "execution_count": 7,
   "metadata": {},
   "outputs": [],
   "source": [
    "Headline = []\n",
    "href = []\n",
    "for i in range(len(data)):\n",
    "    if len(data[i].text) != 0:\n",
    "        Headline.append(data[i].text)\n",
    "        href.append(data[i]['href'])"
   ]
  },
  {
   "cell_type": "code",
   "execution_count": 8,
   "metadata": {
    "collapsed": true,
    "jupyter": {
     "outputs_hidden": true
    }
   },
   "outputs": [
    {
     "data": {
      "text/plain": [
       "(['HKD1.2B Southbound Trading Net Inflow to TENCENT',\n",
       "  'PICC P&C 2021 Original Insurance Premium Income Up 3.8% YoY to RMB448.38B',\n",
       "  'State Council Foresees CN Online Retail Sales at RMB17T by 2025, e-Commerce Deals RMB46T',\n",
       "  'PETROCHINA Projects 2021 NP to Rally 374-395% YoY',\n",
       "  'State Council: CN Value-added of Digital Econ Core Industries To Hit 10% of GDP in 2025',\n",
       "  'Li Ka-shing Adds 266K More CK ASSET Shrs',\n",
       "  'PICC GROUP: PICC P&C 2021 Original Premiums Income +3.8% YoY to RMB448.38B',\n",
       "  '<Full-day Takeaway>Top 5 Gainers among ETFs; XL2CSOPHSTECH (07226.HK) Surges 9.7% Topping Chart',\n",
       "  '<IPO News>DiDi In Talks with HKEX for Secondary Listing in 2Q: Report',\n",
       "  'CN Food & Beverage Names Brisk; Meituan, Jiumaojiu Up 9%, 14%',\n",
       "  \"<Research Report>BOCI Cites Geely: Sector Faces 10-30% Battery Price Hike, To Offset by CATL JV's 2H Production\",\n",
       "  \"SUNAC Clarifies: Subsidiary's Stake Freeze by Court Resolved; Shr Narrows Drop after Midday\",\n",
       "  'CN 2021 Power Battery Sales Vol. +182.3% YoY',\n",
       "  '<Research Report>UBS Cites GAC: 2022 Output, Sales May Grow over 15%; Honda, Toyota JVs May Accelerate EV Contribution',\n",
       "  \"MIIT: CN Carmakers' Auto Exports Double YoY to New High Last Yr\",\n",
       "  'MIIT: CN 2021 Car Production/Sales Grow 3.4%/3.8% YoY; NEV Sales Leap 1.6x',\n",
       "  'SUNAC Shr Once Plunges Over 5% as Stake in Companies Frozen by SZ Court ',\n",
       "  'GAC GROUP Leaps 9% on Positive Profit Alert; Peers Jump 3%-9.5%',\n",
       "  '<Research Report>C Suisse Raises CNOOC (00883.HK) TP to $13.3; Div, Buyback Vows Welcomed by Mkt',\n",
       "  \"CNOOC Shr Once Surges over 10% on Planned Spec. Div., Shr Buyback, Brokers' Positive View\",\n",
       "  '*C Suisse Initiates POP MART (09992.HK) at Outperform with $65 TP',\n",
       "  '*C Suisse Chops JIUMAOJIU (09922.HK) TP to $23, Rated Outperform',\n",
       "  '*C Suisse Axes HAIDILAO (06862.HK) TP to $18, Rated Neutral ',\n",
       "  '*C Suisse Cuts HUA HONG SEMI (01347.HK) TP to $43, Rated Neutral ',\n",
       "  '*C Suisse Trims XIABUXIABU (00520.HK) TP to $8, Rated Outperform',\n",
       "  '*C Suisse Raises CNOOC (00883.HK) TP to $13.3, Rated Outperform',\n",
       "  'HKEX Inks New Strategic Cooperation Agreement with SZSE to Support GBA Development',\n",
       "  'Societe Generale: Warrant, CBBC Mkt Deal Weighting May Rise to About 15% of Total; HSI To Hit 28,200 in Most Bullish Case',\n",
       "  '<Midday Takeaway>Top 5 Gainers among ETFs; XL2CSOPHSTECH (07226.HK) Surges 7.7% Topping Chart',\n",
       "  \"REMEGEN-B (09995.HK)'s Application for A-shr Issue Approved\",\n",
       "  \"Fitch: Ant Group's Reform Advances; Impact on BABA Manageable \",\n",
       "  '<Research Report>BofAS Ratings, TPs on Property Managers (Table)',\n",
       "  '<Research Report>Daiwa Forecasts CN Metaverse Mkt to Hit USD30B by 2025; Tencent, Netease Equipped to Launch Relevant Games',\n",
       "  'Taobao, Tmall MO Division Strikes One-stop Partnership with 3 MO Logistics Firms',\n",
       "  'BioNTech: Covid Vaccine Approval in PRC Extremely Pivotal',\n",
       "  'HSI Gain Amplified to Almost 500 Pts on New Econs; CNOOC, MEITUAN, JD Up 8-10%',\n",
       "  \"<Research Report>Citi: JD-SW Offers Buying Opportunity After Tencent's Stake Cut; Restated as Sector Top-pick\",\n",
       "  \"<Research Report>BofAS Broadly Cuts Property Managers' TPs; Sector Top Picks CG SERVICES, CHINA OVS PPT\",\n",
       "  'CCA: KFC, POP MART Lure Food Overbuying via Blind Boxes',\n",
       "  'US Stocks Sturdy; HSI May Test 24,000',\n",
       "  'HSTI Soars 3.6%; Meituan, JD Sharpen Gain to Over 8%-9%',\n",
       "  '<Research Report>Daiwa Upgrades ABC (01288.HK) to Outperform with TP Cut to $3.25',\n",
       "  '<Research Report>Nomura Axes JD-SW (09618.HK) TP to $348, Rated Buy',\n",
       "  '<Research Report>JPM Ratings, TPs on Casinos (Table)',\n",
       "  'STANCHART Purportedly Seeks to Set up Wealth Mgmt Subsidiary in CN',\n",
       "  '*Daiwa Upgrades ABC (01288.HK) to Outperform with TP Cut to $3.25 ',\n",
       "  \"*BofAS Broadly Cuts Property Managers' TPs; Sector Top Picks CG SERVICES, CHINA OVS PPT\",\n",
       "  '*Nomura Axes JD-SW (09618.HK) TP to $348, Rated Buy',\n",
       "  '<Research Report>HSBC Global Research Axes WH GROUP (00288.HK) TP to $5.9, Rated Hold',\n",
       "  '<IPO News>Stemirna Therapeutics Reportedly Weighs USD400M HK IPO in 2H22 Earliest ',\n",
       "  '*Macquarie Lowers HAIDILAO (06862.HK) TP to $13.4, Rated Underperform',\n",
       "  '<Research Report>HSBC Global Research Lifts CHINA MOBILE (00941.HK) TP to $68, Rated Buy',\n",
       "  '<Research Report>JPM: CNOOC (00883.HK) 2022 Output Target Beats, Rated Overweight',\n",
       "  '<Research Report>Citi: CNOOC Div & Buyback Underpin Shr Price; 2022 Output Target Largely In Line',\n",
       "  '*HSBC Global Research Axes WH GROUP (00288.HK) TP to $5.9, Rated Hold',\n",
       "  '*C Suisse Drops ZHOU HEI YA (01458.HK) TP to $8.8, Rated Outperform',\n",
       "  '*HSBC Global Research Lifts CHINA MOBILE (00941.HK) TP to $68, Rated Buy',\n",
       "  '*JPM: CNOOC (00883.HK) 2022 Output Target Beats, Rated Overweight',\n",
       "  '*Citi: CNOOC (00883.HK) Div & Buyback Underpin Shr Price; 2022 Output Target Largely In Line',\n",
       "  '<Research Report>Daiwa Hikes CHOW TAI FOOK (01929.HK) TP to $19.5, Rated Buy',\n",
       "  '<Research Report>Daiwa: WUXI BIO (02269.HK) Valuation Appealing, with Solid Growth Outlook',\n",
       "  '*Daiwa: WUXI BIO (02269.HK) Valuation Appealing, with Solid Growth Outlook ',\n",
       "  '<Asian Mkt>Nikkei, KOSPI Rally 1.5%, 1.3%; HSI Upswing Widens to Over 400 Pts',\n",
       "  '<Research Report>JPM Stays Cautious on CHOW TAI FOOK (01929.HK), Rated Underweight',\n",
       "  '*Daiwa Hikes CHOW TAI FOOK (01929.HK) TP to $19.5, Rated Buy',\n",
       "  '*JPM Stays Cautious on CHOW TAI FOOK (01929.HK), Rated Underweight',\n",
       "  '<Research Report>M Stanley Assumes CHINARES PHARMA (03320.HK) Shr Rise in 30 Days, Rated Equalweight ',\n",
       "  '*M Stanley Assumes CHINARES PHARMA (03320.HK) Shr Rise in 30 Days, Rated Equalweight',\n",
       "  '*Nomura Trims JD LOGISTICS (02618.HK) TP to $33, Rated Buy',\n",
       "  '<Research Report>JPM Gradually Bullish on Casinos, Upgrades Sands China, Wynn Macau, MGM China to Overweight',\n",
       "  '*JPM Gradually Bullish on Casinos, Upgrades Sands China, Wynn Macau, MGM China to Overweight ',\n",
       "  \"Galaxy's Gaming Operation Unit Revives Voluntary 'New Life Starter Program', Grants One-off Ex-gratia Payment to Eligible Staff \",\n",
       "  'MTR Sets Up Technology Advisory Panel, May Reportedly Involve Innovation, Tech Investments ',\n",
       "  'R&F PROPERTIES To Repurchase Some USD Notes for USD116M, Extend Bond Principal Maturity Date',\n",
       "  'Pony Ma Reportedly Describes TENCENT as Ordinary, Replaceable Company',\n",
       "  'DiDi Global Reportedly In Unofficial Discussion with HKEX on HK IPO',\n",
       "  'AIA Reportedly Weighing Sale of Partial AUS Life Assets, Likely at Hundred Million USD',\n",
       "  '<US Stocks>DJIA Grows 183 pts or 0.5%; JD ADR Leaps 10%',\n",
       "  'XIAOMI-W Donates RMB10M to Create Sports Scholarship',\n",
       "  'CNOOC Organizing A-shr Comeback, without Concrete Timetable Yet',\n",
       "  'Shimao Reportedly Mulls to Repay Onshore Bond Due Sat; Property Sales Last Mth Beat ',\n",
       "  'HAIER SMARTHOME Places Shrs at 14% Discount to Raise $1.16B',\n",
       "  'TENCENT Buys back 440K Shrs for $202M',\n",
       "  'XIAOMI-W Buys back 2.1M Shrs for $38.14M',\n",
       "  '<Positive Profit Alert>GAC GROUP (02238.HK) Forecasts 2021 NP at RMB6.6-7.6B',\n",
       "  'MAN WAH HLDGS Buys Back 2M Shrs, Involving $23.07M',\n",
       "  '<Pre-Result>CITIC BANK (00998.HK) 2021 NP RMB55.641B, Up 13.6%',\n",
       "  'CROSSTEC Confirms: Unaware of Reasons for Unusual Shr Price Movement ',\n",
       "  'YUEXIU PROPERTY Last Dec Contracted Sales +77%, 2021 Sales Meet 103% of Target',\n",
       "  'HKD437.2M Southbound Trading Net Inflow to CHINA MOBILE',\n",
       "  'AUTOHOME-S Tracks 67.72M MAUs',\n",
       "  \"Fitch Downgrades SHIMAO GROUP's IDR to 'B-'; Ratings Remain on RWN\",\n",
       "  'CHOW TAI FOOK 3FQ Retail Sales Value Up 31.1% YoY; HK/ MO SSSG 14.4%',\n",
       "  'CNOOC: 2022 Targeted Net Production 600-610M BOE, Capex RMB90-100B',\n",
       "  'CNOOC Plans 20th Anniversary Spec Div plus 2021 Yr-end Regular Div; To Have Shr Buyback Appropriately This Yr',\n",
       "  '*CNOOC: 2022 Targeted Net Production 600-610M BOE, Capex RMB90-100B',\n",
       "  '*CNOOC: Full-yr Div. No Less than HKD0.7 for 2022-24',\n",
       "  '*CNOOC Plans 20th Anniversary Spec Div plus 2021 Yr-end Regular Div; To Have Shr Buyback Appropriately This Yr',\n",
       "  '<Full-day Takeaway>Top 5 Gainers among ETFs; F SSIFIRONORE (03047.HK) Surges 2.2% Topping Chart',\n",
       "  'GALAXY ENT Said to Relaunch Voluntary Redundancy Scheme; Dealers Can Get One-off MOP270K Max. ',\n",
       "  \"<IPO News>CN Fresh Food e-Commerce Operator 'Meicai' Said to File for HK IPO in 1H22 \",\n",
       "  'Tencent Meeting Amasses Over 200M Users',\n",
       "  '<Research Report>CLSA Latest Ratings, TPs on CN Property Managers (Table)',\n",
       "  \"HKEX's LME Electronic Trading Platform Resumes Operation\",\n",
       "  'HKEX: ADT Last Yr $166.7B, Up 29% YoY',\n",
       "  \"JD-SW (09618.HK) Launches Hypermarket Stores 'ochama' in the Netherlands\",\n",
       "  '<Research Report>CLSA Adjusts TPs on Property Managers; Top Picks CGS, COPL, CR MixC, GTS, Poly Property',\n",
       "  '<Research Report>CLSA Hikes SUNNY OPTICAL (02382.HK) TP to $293, Rated Buy',\n",
       "  '*CLSA Adjusts TPs on Property Managers; Top Picks CGS, COPL, CR MixC, GTS, Poly Property',\n",
       "  'MEITUAN-W Unveils Patent to Unlock Shared Bikes by Fingerprint',\n",
       "  'SENSETIME-W, Dunhuang Cultural Innovation Team up for Digital Collection: Report',\n",
       "  'Hog-concepts Dive Almost 3-5% as CN Hog Price Falls for 8 Days ',\n",
       "  '*CLSA Initiates JOINN (06127.HK) at Buy with $89.6 TP',\n",
       "  '<Research Report>CLSA Upgrades MTR CORPORATION (00066.HK) to Buy with TP Added to $51',\n",
       "  'IMMUNOTECH-B (06978.HK) Plunges 33% to Almost-1-yr Low with Block Trade on Board Pre-mkt',\n",
       "  '*CLSA Cuts WUXI APPTEC (02359.HK) TP to $200, Rated Buy',\n",
       "  '*CLSA Hikes SUNNY OPTICAL (02382.HK) TP to $293, Rated Buy',\n",
       "  '*CLSA Cuts TIGERMED (03347.HK) TP to $152, Rated Buy',\n",
       "  '*CLSA Raises PHARMARON (03759.HK) TP to $177, Rated Buy',\n",
       "  '<Research Report>C Suisse Adds CNOOC (00883.HK) TP to $13, Rated Outperform',\n",
       "  '<Research Report>C Suisse Axes PETROCHINA (00857.HK) TP to $5.2, Rated Outperform',\n",
       "  '*CLSA Lifts KERRY PPT (00683.HK) TP to $26.6, Rated Buy',\n",
       "  '*CLSA Upgrades MTR CORPORATION (00066.HK) to Buy with TP Added to $51',\n",
       "  '*CLSA Hikes FRONTAGE (01521.HK) TP to $5.7, Rated Buy',\n",
       "  '*CLSA Trims HBM HOLDINGS-B (02142.HK) TP to $11.3, Rated Buy',\n",
       "  \"*CLSA Lowers KINGDEE INT'L (00268.HK) TP to $30.1, Rated Buy\",\n",
       "  '*C Suisse Drops JD-SW (09618.HK) TP to $420, Rated Outperform',\n",
       "  '*C Suisse Adds CNOOC (00883.HK) TP to $13, Rated Outperform',\n",
       "  '*C Suisse Axes PETROCHINA (00857.HK) TP to $5.2, Rated Outperform',\n",
       "  '<Midday Takeaway>Top 5 Gainers among ETFs; CAM HSBIOTECH-U (09069.HK) Surges 2.0% Topping Chart',\n",
       "  'CN Developers, Incl. Ronshine & Zhongliang, Deny Phone Calls from PBOC',\n",
       "  \"Xiaomi Invests in Vehicle Control Chip Plant 'Flagchip'\",\n",
       "  'HSI Hikes over 100 pts; Tencent, Meituan, Wuxi Bio, Developers Lead Rally',\n",
       "  'Pfizer CEO: Unsure How Long Protection Lasts with 3rd Comirnaty Shot ',\n",
       "  \"BABA's DAMO Academy Sees Top-10 2022 Tech Trends, Incl. Cloud-network-device Convergence\",\n",
       "  'US Stocks Remain Volatile; H Shrs Rebound for 3 Days in a Row',\n",
       "  \"Air Pax from High-risk Areas To be Banned from HK Transit from Sat; BJ Olympics' Participants Waived: Wire \",\n",
       "  'WH GROUP Shr Slumps Almost 3% with Block Trade on Board Pre-mkt',\n",
       "  \"<Research Report>CICC: Fund Allocation to Pharma Sector Sinks to Very Low Level; Core Firms' Appeal Gradually Emerging\",\n",
       "  'HSBC Finishes 1st Sustainability-linked Trade Facility in HK',\n",
       "  \"HKEX's LME Forced to Halt Trading Due to Power Outage at 3rd Party Data Center\",\n",
       "  '<Stock on Move>CROSSTEC (03893.HK) Skydives 87% Max.; Chair Dumps 45.32M Shrs Last Mth ',\n",
       "  '<Research Report>JPM Ratings, TPs on Insurers (Table)',\n",
       "  '<Research Report>Jefferies Chops GEELY AUTO (00175.HK) TP to $30.1, Rated Buy',\n",
       "  \"Sensor Tower: 8 Mobile Games' Global Rev. Surpass USD1B Last Yr; Honor of Kings Grosses USD2.8B\",\n",
       "  '<Research Report>C Suisse Lifts SUNNY OPTICAL TP to $295, Cuts AAC TECH TP to $32.1',\n",
       "  \"*M Stanley Assumes HAITIAN INT'L (01882.HK) Shr Rise in 60 Days, Rated Overweight\",\n",
       "  '*Jefferies Chops GEELY AUTO (00175.HK) TP to $30.1, Rated Buy',\n",
       "  '<Research Report>Daiwa Chops SHENZHOU INTL (02313.HK) TP to $160; Rated Outperform',\n",
       "  'JPM Purportedly Plans to Hire Over 100 Staff to Asia Private Banking This Yr',\n",
       "  '<Research Report>JPM Downgrades PING AN to Neutral, Prefers AIA & PICC P&C for CN/ HK Insurers',\n",
       "  '<Research Report>G Sachs Trims JD-SW (09618.HK) TP to $453, Kept CL Buy',\n",
       "  \"*C Suisse Axes CHINASOFT INT'L (00354.HK) TP to $12.9, Rated Outperform\",\n",
       "  '*Nomura Upgrades NISSIN FOODS (01475.HK) to Buy with TP Added to $7.4 ',\n",
       "  '*Macquarie Hikes U-PRESID CHINA (00220.HK) TP to $11.2, Rated Outperform',\n",
       "  '*G Sachs Trims JD-SW (09618.HK) TP to $453, Kept CL Buy ',\n",
       "  'CANSINOBIO-B Shr Opens Down by Over 8%, Shareholder Places Shrs at 9% Discount for $500M',\n",
       "  \"NEW ORIENTAL-S: Michael Yu's Personal Blog Post Not Represent Co. View\",\n",
       "  \"US Shr Solid After Plunge; HSI May Attempt 24,000 Resistance; Tencent's WeChat Mini Programs Give Hope\",\n",
       "  \"Moody's Downgrades SHIMAO GROUP to B2, Expects Sales Plunge in Next 6 Mths\",\n",
       "  '*C Suisse Lifts SUNNY OPTICAL TP to $295, Cuts AAC TECH TP to $32.1 ',\n",
       "  '<Research Report>Citi Retains Macau Jan GGR Forecast at MOP6B',\n",
       "  '*JPM Downgrades PING AN to Neutral, Prefers AIA & PICC P&C for CN/ HK Insurers ',\n",
       "  'WB-SW Appoints Pen Hung Tung as Director; Daniel Zhang Steps down',\n",
       "  'TARGET INS: Funds Deposited into NBL Not for Subscribing Amber Hill ES Fund',\n",
       "  '*Citi Retains Macau Jan GGR Forecast at MOP6B ',\n",
       "  'TARGET INS Mulls to Apply for Insurance Appeals Tribunal Review over Deloitte Takeover',\n",
       "  'Indonesia Eases Coal Export Ban, To Conduct Review Tmr',\n",
       "  \"LONGFOR GROUP's Subsidiary to Issue Max. RMB2.8B Corporate Bonds\",\n",
       "  'SHIMAO GROUP: No Outstanding ABS Due/ Payable; In Talks for Sale of Certain Properties',\n",
       "  'NEW ORIENTAL-S Founder Michael Yu: Retains About 50K Teachers',\n",
       "  'JD-SW Said to Promote US$2B Syndicated Finance, Incl. Green Loan',\n",
       "  'Hengda Real Estate Mulls Delaying 1st 2022 Bondholder Meeting Vote Till Thu',\n",
       "  'EVERGRANDE Surrenders Lease at Excellence Center, Moves Office to Self-owned Property in SZ',\n",
       "  'TENCENT Buys back 450K Shrs for $204M',\n",
       "  'MAN WAH HLDGS Buys Back 2.6928M Shrs, Involving $30.29M',\n",
       "  'E-COMMODITIES Buys back 26.64M Shrs for $33.71M',\n",
       "  'SINO-OCEAN GP 2021 Contracted Sales RMB136.26B, Up 4%',\n",
       "  'GREENLAND HK 2021 Contracted Sales RMB33B, Down 39.5%',\n",
       "  'YUZHOU GROUP 2021 Contracted Sales Climb to RMB105B',\n",
       "  'Q TECH Camera Modules Sales Grow 22.1% in 2021',\n",
       "  '<On Debut>VANOV HOLDINGS (02260.HK) Closes at $1.26 in Gray Mkt, Up 3.3% vs Listing Price',\n",
       "  'S&P Global Ratings Downgrades SHIMAO GROUP Long-term Issuer Credit Rating to B-',\n",
       "  'HKD837.6M Southbound Trading Net Inflow to TENCENT',\n",
       "  'LONGFOR GROUP 2021 Contracted Sales Gain 7.2% YoY to RMB290.09B',\n",
       "  'Fitch Downgrades YUZHOU GROUP Credit Rating to CCC-',\n",
       "  '<IPO News>CN Cosmetics Firm Chicmax Group Reportedly Mulls HK IPO This Yr Earliest',\n",
       "  \"STANCHART Bill Winters: CN 'Zero Case' Policy Does Not Induce Grave Economic Impacts\",\n",
       "  '<Full-day Takeaway>Top 5 Gainers among ETFs; CSOP HEALTHCARE (03174.HK) Surges 5.8% Topping Chart',\n",
       "  '<On Debut>VANOV HOLDINGS (02260.HK) Opens at $1.27 in Gray Mkt, Up 4.1%',\n",
       "  'SHIMAO GROUP Shr Once Rockets 25% on Reported Asset Sale Talk with CHINA VANKE',\n",
       "  '<Post Resumption>MODERN LAND Shrs Tumble 42%, Demanded to Early Repay US$1.348B Offshore Notes',\n",
       "  'EVERGRANDE Purportedly Relocates HQ from SZ back to GZ ',\n",
       "  'KUAISHOU-W Combats Malicious Hype, Handles 239 Illegal Accounts',\n",
       "  \"<Research Report>JPM's Top CN Value Stock Portfolio (Table)\",\n",
       "  \"Tencent Cloud, Indonesia's GOX Strike 4-yr Cooperation \",\n",
       "  '<Research Report>Citi Cuts BABA-SW (09988.HK) TP to $210, Projects FY3Q22 Rev. to Rise 10% YoY',\n",
       "  '<IPO News>Insight Lifetech Reported to Seek USD300M HK Listing Hearing This Mth Earliest ',\n",
       "  '<Research Report>C Suisse Estimates CN Online Prescription Drug Sales Policy to Unroll Early Yr; Limited Impact on JD HEALTH',\n",
       "  '*C Suisse Estimates CN Online Prescription Drug Sales Policy to Unroll Early Yr; Limited Impact on JD HEALTH',\n",
       "  '*BofAS Initiates MAN WAH HLDGS (01999.HK) at Buy with $16.5 TP',\n",
       "  '*Citi Cuts BABA-SW (09988.HK) TP to $210, Projects FY3Q22 Rev. to Rise 10% YoY',\n",
       "  'DBS: Mega Techs To Benefit from Metaverse; Tencent Well-positioned',\n",
       "  'Medical Device Sector Brisk Echoing A-shr Peers; Venus Medtech, AK Medical, Sisram Med Soar 10-15%',\n",
       "  'KWG GROUP Said to Pay off USD Note Due Tue',\n",
       "  'Tencent Mulls Buying Game Phone Maker Black Shark for Metaverse Layout: Report',\n",
       "  'SHENZHOU INTL: Production Facilities in Pandemic Prevention Zone Resume Operation',\n",
       "  '<Midday Takeaway>Top 5 Gainers among ETFs; CSOP HEALTHCARE (03174.HK) Surges 5.9% Topping Chart',\n",
       "  'SIHUAN PHARM Secures Medical Device Registration Cert for Medical Skin Care Gel, Skin Repair Gel',\n",
       "  '<Research Report>CICC Cites KUAISHOU-W Forecast: e-Commerce, Ad, Live Streaming Rev. To Top Guidance; User No. Shiny',\n",
       "  \"YILI (600887.SH) Rules 'Hurun China Private Companies SDG Readiness 100'\",\n",
       "  'CANSINOBIO-B Once Jumps Nearly 12%, Biz Untouched by Tianjin Omicron Plague Yet',\n",
       "  'Drugmakers Popular; CanSino Bio, JD Health, PA Good Doctor, Ali Health Leap 8-12%',\n",
       "  'ALI HEALTH, PA GOODDOCTOR, JD HEALTH Rebound from Troughs; COVID Home Testing Kits Popular for CNY Shopping',\n",
       "  '<Research Report>Jefferies Downgrades SHIMAO GROUP (00813.HK) to Hold with TP Cut to $4.92',\n",
       "  '<Research Report>C Suisse Trims BABA-SW (09988.HK) TP to $170, Rated Outperform',\n",
       "  '<IPO News>BABA-backed Huitongda Reportedly Starts Pre-Marketing; Estimated to Raise Max. USD500M',\n",
       "  '*C Suisse Trims BABA-SW (09988.HK) TP to $170, Rated Outperform',\n",
       "  '*Jefferies Downgrades SHIMAO GROUP (00813.HK) to Hold with TP Cut to $4.92',\n",
       "  \"<Research Report>HSBC Global Research: CN Developers' M&A Loans Not Limited by '3 Red Lines' Slightly Positive to Quality Developers; Bullish on CR Land, Longfor\",\n",
       "  '*BofAS Lowers MEIDONG AUTO (01268.HK) TP to $52, Rated Buy',\n",
       "  \"*HSBC Global Research: CN Developers' M&A Loans Not Limited by '3 Red Lines' Slightly Positive to Quality Developers; Bullish on CR Land, Longfor\",\n",
       "  '<Research Report>M Stanley Latest Ratings, TPs on Educators (Table)',\n",
       "  '<Research Report>G Sachs Cuts TENCENT (00700.HK) TP to $702, Kept CL Buy',\n",
       "  'HSI Leaps over 200 pts to Surpass 23,700; HSBC, Tencent, Pharmas Lead Rally',\n",
       "  '*Nomura Chops CPIC (02601.HK) TP to $30.55, Rated Buy',\n",
       "  '<Research Report>Macquarie Initiates SENSETIME-W (00020.HK) at Underperform with $4 TP',\n",
       "  'TARGET INS CFO Steps Down',\n",
       "  '<Research Report>Nomura Drops GEELY AUTO (00175.HK) TP to $23.9, Rated Buy',\n",
       "  '*Nomura Drops GEELY AUTO (00175.HK) TP to $23.9, Rated Buy',\n",
       "  'HSBC Greg Guyett Not Yet Report Duty in HK due to Plague Control: Report',\n",
       "  '<Research Report>Citi: WANT WANT CHINA, MENGNIU DAIRY, CHINA RES BEER Top Buys in CN Staples in 2022',\n",
       "  '*Macquarie Initiates SENSETIME-W (00020.HK) at Underperform with $4 TP',\n",
       "  '*G Sachs Cuts TENCENT (00700.HK) TP to $702, Kept CL Buy ',\n",
       "  'C FIN INT INV: Still Unable to Contact Non-exec Director Zhang Huayu',\n",
       "  '<Research Report>M Stanley Assumes HUA HONG SEMI Shr to Underperform Peers in Next 15 Days, Rated Equalweight',\n",
       "  '*C Suisse Upgrades BUD APAC (01876.HK) to Outperform with $23.5 TP',\n",
       "  '<Research Report>M Stanley Broadly Trims TPs on Educators, Downgrades HOPE EDU to Underweight',\n",
       "  '*M Stanley Assumes HUA HONG SEMI Shr to Underperform Peers in Next 15 Days, Rated Equalweight',\n",
       "  '*Citi: WANT WANT CHINA, MENGNIU DAIRY, CHINA RES BEER Top Buys in CN Staples in 2022',\n",
       "  '<Research Report>Daiwa Downgrades SHIMAO GROUP (00813.HK) to Hold, Axes TP to $5.2',\n",
       "  'China Telecom Corp Invests in Asset Manager',\n",
       "  \"TARGET INS Chairman's Proposed General Offer Lapses \",\n",
       "  '<Research Report>Citi: CHINA LIFE Chairman Wang Bin Probed; Shr Price May be Subdued, but Operation Impact Controllable',\n",
       "  'HUTCHMED Initiates Clinical Study on Lymphoma Drug ',\n",
       "  '<Research Report>M Stanley Looks forward to Structural Growth Opportunities This Yr; Upbeat on CRRC, TIMES ELECTRIC',\n",
       "  '*Citi: CHINA LIFE Chairman Wang Bin Probed; Shr Price May be Subdued, but Operation Impact Controllable ',\n",
       "  '*M Stanley Broadly Trims TPs on Educators, Downgrades HOPE EDU to Underweight ',\n",
       "  '*M Stanley Looks forward to Structural Growth Opportunities This Yr; Upbeat on CRRC, TIMES ELECTRIC',\n",
       "  '<Research Report>UBS Upgrades BYD COMPANY (01211.HK) to Buy with TP Added to $320',\n",
       "  '<Post Resumption>HUASHENG INTL Chair Forced to Sell About 145M Shrs; Shr Price Rebounds 1.5x from Trough',\n",
       "  '<Research Report>UBS Upgrades SHENZHOU INTL (02313.HK) to Buy with TP Cut to $180',\n",
       "  '<IPO News>VANOV HOLDINGS (02260.HK) IPO Oversubscribed by Over 12x; One-lot Success Rate 15%',\n",
       "  'Carrie Lam: Confident that HK SPAC Regime Can Strike Balance b/w Investor Protection, Mkt Buildout',\n",
       "  '<Research Report>UBS Reiterates Positive Stance on Renewables, Lifts TPs on CHINA RES POWER, CHINA LONGYUAN, XINYI ENERGY',\n",
       "  '*UBS Lifts CHINA STATE CON (03311.HK) TP to $11.1, Rated Buy',\n",
       "  '*UBS Upgrades SHENZHOU INTL (02313.HK) to Buy with TP Cut to $180 ',\n",
       "  '*UBS Upgrades BYD COMPANY (01211.HK) to Buy with TP Added to $320',\n",
       "  'Shimao Series Reportedly Expediting Asset Disposal to Shrug off Debt Pressure',\n",
       "  'Guangdong Reportedly Encourages SOEs to Take over Property Projects with Debt Issues',\n",
       "  '*UBS Reiterates Positive Stance on Renewables, Lifts TPs on CHINA RES POWER, CHINA LONGYUAN, XINYI ENERGY',\n",
       "  'WYNN MACAU: Biz Sturdy by End-21 since VIP Comes to Full Stop',\n",
       "  'MTR Requires Employees to Receive 1st Vaccine Jab by 23 Feb',\n",
       "  'MODERN LAND: Creditors Demand Early Repayment for over US$1.3B Offshore Debts; Trading To Resume AM',\n",
       "  'AGILE GROUP: 14 Non-core Properties Sold in 2H21, Cashing in RMB2.8B',\n",
       "  '<Profit Warning>JUTAL OIL SER Forecasts 2021 NP to Sharply Decline YoY',\n",
       "  'CIFI HOLD GP Mulls to Redeem US$265M Notes Due This Yr',\n",
       "  '<Positive Profit Alert>CC SECURITIES: 2021 NP May Surge 3.6-4.4x YoY',\n",
       "  \"HSBC Acts as Custodian for US-sanctioned CN Firm's Shareholder: Report\",\n",
       "  'HSBC Buys back 7,485 Shrs in London Last Fri for GBP35.6K',\n",
       "  'HUA HONG SEMI Reports Brief Power Outage at Fab, Not Expect Big Impact on Financial Results ',\n",
       "  \"GD Pauses Inter-provincial Group Tours, 'Air Ticket + Hotel' Biz\",\n",
       "  'New Oriental Founder: 60K Staff Sacked, Cash Expenses Nearly RMB20B Last Yr',\n",
       "  'CHINA LIFE Biz as Usual, To Designate Director to Assume Role of Chairman',\n",
       "  'CN CCDI: CHINA LIFE Chairman Wang Bin Under Probe for Suspected Serious Violations of Law  ',\n",
       "  'LONGFOR GROUP Proposes to Spin-off, List Longfor Intelligent on Main Board',\n",
       "  'NAYUKI 4Q21 Same-store Sales Recover to 4Q20 Level',\n",
       "  'BRIGHT SMART (01428.HK) 9M21 NPAT $423M',\n",
       "  'CHINA RAILWAY Issues RMB3B Co. Bonds, 3-yr Rate Consultation Range 2.5%-3.5%',\n",
       "  'HUASHENG INTL Chair Forced to Sell 145M Shrs; Trading To Resume on Mon',\n",
       "  \"TENGY ENV Buys Substantial Shareholder's Zhejiang Plant at RMB25.9M\",\n",
       "  'RSUN PPT 2021 Contracted Sales RMB87.2B, Up 0.8%',\n",
       "  'SUNAC 2021 Contracted Sales RMB597.36B, Up 3.8%',\n",
       "  'TENCENT Buys back 460K Shrs for $204M',\n",
       "  'SUNNY OPTICAL Dec 2021 HLS Shipment -7.3% YoY',\n",
       "  'KAISA GROUP May Face Asset Seizure Provided No Repayment Plan: Report',\n",
       "  'HKD782.6M Southbound Trading Net Inflow to TENCENT',\n",
       "  \"TOWNGAS CHINA To Change Stock Short Name to 'TG SMART ENERGY' from Next Thur\",\n",
       "  'Insurance Authority Appoints Deloitte to Take Over Target Insurance',\n",
       "  'MIDEA REAL EST 2021 Contracted Sales Hike 8.7% YoY',\n",
       "  'CHINESE EST H Records About $7.87B Realized Loss from Disposal of EVERGRANDE Shrs Last Yr',\n",
       "  'R&F PROPERTIES Contracted Sales Slump 62.7% YoY Last Dec, Down 13.4% in 2021 ',\n",
       "  '<Full-day Takeaway>Top 5 Gainers among ETFs; CICCKRANECNET (03186.HK) Surges 4.7% Topping Chart',\n",
       "  'HSB North Point Branch Listed under Govt Compulsory Testing Notice; Service Halted at 3PM ',\n",
       "  'TARGET INS To Cancel Taxi Insurance after 7-day Notice; 8 Insurers Can Undertake Future Policies ',\n",
       "  \"TARGET INS Fails to Retrieve $1.2B Offshore Assets at Insurance Authority's Request: Report\",\n",
       "  \"iPhone 13 Pro Demand Overwhelming; Foxconn's Zhengzhou Plants Desperate for Workers Again: Report\",\n",
       "  \"<Research Report>UBS' Latest Ratings, TPs on HK Developers (Table)\",\n",
       "  '<Research Report>JPM: CN 2022 Infra Demand May Improve; Upbeat on Angang, Conch Cement, CNBM ',\n",
       "  'HSI Extends Rise to Nearly 400 pts after Midday on Financials, Developers; CHINA OVERSEAS Surges over 9%'],\n",
       " 300,\n",
       " ['/en/stocks/news/aafn-con/NOW.1155219/company-news',\n",
       "  '/en/stocks/news/aafn-con/NOW.1155211/company-news',\n",
       "  '/en/stocks/news/aafn-con/NOW.1155208/company-news',\n",
       "  '/en/stocks/news/aafn-con/NOW.1155206/company-news',\n",
       "  '/en/stocks/news/aafn-con/NOW.1155202/company-news',\n",
       "  '/en/stocks/news/aafn-con/NOW.1155196/company-news',\n",
       "  '/en/stocks/news/aafn-con/NOW.1155192/company-news',\n",
       "  '/en/stocks/news/aafn-con/NOW.1155164/company-news',\n",
       "  '/en/stocks/news/aafn-con/NOW.1155157/company-news',\n",
       "  '/en/stocks/news/aafn-con/RUM.220112_155056/company-news',\n",
       "  '/en/stocks/news/aafn-con/NOW.1155154/company-news',\n",
       "  '/en/stocks/news/aafn-con/NOW.1155152/company-news',\n",
       "  '/en/stocks/news/aafn-con/NOW.1155137/company-news',\n",
       "  '/en/stocks/news/aafn-con/NOW.1155136/company-news',\n",
       "  '/en/stocks/news/aafn-con/NOW.1155128/company-news',\n",
       "  '/en/stocks/news/aafn-con/NOW.1155127/company-news',\n",
       "  '/en/stocks/news/aafn-con/NOW.1155126/company-news',\n",
       "  '/en/stocks/news/aafn-con/RUM.220112_140427/company-news',\n",
       "  '/en/stocks/news/aafn-con/NOW.1155134/company-news',\n",
       "  '/en/stocks/news/aafn-con/RUM.220112_133816/company-news',\n",
       "  '/en/stocks/news/aafn-con/NOW.1155118/company-news',\n",
       "  '/en/stocks/news/aafn-con/NOW.1155117/company-news',\n",
       "  '/en/stocks/news/aafn-con/NOW.1155116/company-news',\n",
       "  '/en/stocks/news/aafn-con/NOW.1155115/company-news',\n",
       "  '/en/stocks/news/aafn-con/NOW.1155114/company-news',\n",
       "  '/en/stocks/news/aafn-con/NOW.1155113/company-news',\n",
       "  '/en/stocks/news/aafn-con/NOW.1155106/company-news',\n",
       "  '/en/stocks/news/aafn-con/NOW.1155108/company-news',\n",
       "  '/en/stocks/news/aafn-con/NOW.1155098/company-news',\n",
       "  '/en/stocks/news/aafn-con/NOW.1155088/company-news',\n",
       "  '/en/stocks/news/aafn-con/NOW.1155089/company-news',\n",
       "  '/en/stocks/news/aafn-con/NOW.1155085/company-news',\n",
       "  '/en/stocks/news/aafn-con/NOW.1155082/company-news',\n",
       "  '/en/stocks/news/aafn-con/NOW.1155077/company-news',\n",
       "  '/en/stocks/news/aafn-con/NOW.1155075/company-news',\n",
       "  '/en/stocks/news/aafn-con/RUM.220112_113006/company-news',\n",
       "  '/en/stocks/news/aafn-con/NOW.1155067/company-news',\n",
       "  '/en/stocks/news/aafn-con/NOW.1155081/company-news',\n",
       "  '/en/stocks/news/aafn-con/NOW.1155064/company-news',\n",
       "  '/en/stocks/news/aafn-con/.HK.220112_105530/company-news',\n",
       "  '/en/stocks/news/aafn-con/RUM.220112_105253/company-news',\n",
       "  '/en/stocks/news/aafn-con/NOW.1155071/company-news',\n",
       "  '/en/stocks/news/aafn-con/NOW.1155073/company-news',\n",
       "  '/en/stocks/news/aafn-con/NOW.1155051/company-news',\n",
       "  '/en/stocks/news/aafn-con/NOW.1155053/company-news',\n",
       "  '/en/stocks/news/aafn-con/NOW.1155043/company-news',\n",
       "  '/en/stocks/news/aafn-con/NOW.1155039/company-news',\n",
       "  '/en/stocks/news/aafn-con/NOW.1155030/company-news',\n",
       "  '/en/stocks/news/aafn-con/NOW.1155054/company-news',\n",
       "  '/en/stocks/news/aafn-con/NOW.1155040/company-news',\n",
       "  '/en/stocks/news/aafn-con/NOW.1155032/company-news',\n",
       "  '/en/stocks/news/aafn-con/NOW.1155047/company-news',\n",
       "  '/en/stocks/news/aafn-con/NOW.1155050/company-news',\n",
       "  '/en/stocks/news/aafn-con/NOW.1155048/company-news',\n",
       "  '/en/stocks/news/aafn-con/NOW.1155018/company-news',\n",
       "  '/en/stocks/news/aafn-con/NOW.1155017/company-news',\n",
       "  '/en/stocks/news/aafn-con/NOW.1155011/company-news',\n",
       "  '/en/stocks/news/aafn-con/NOW.1155012/company-news',\n",
       "  '/en/stocks/news/aafn-con/NOW.1155007/company-news',\n",
       "  '/en/stocks/news/aafn-con/NOW.1155026/company-news',\n",
       "  '/en/stocks/news/aafn-con/NOW.1155023/company-news',\n",
       "  '/en/stocks/news/aafn-con/NOW.1155003/company-news',\n",
       "  '/en/stocks/news/aafn-con/NOW.1155025/company-news',\n",
       "  '/en/stocks/news/aafn-con/NOW.1155024/company-news',\n",
       "  '/en/stocks/news/aafn-con/NOW.1155000/company-news',\n",
       "  '/en/stocks/news/aafn-con/NOW.1155001/company-news',\n",
       "  '/en/stocks/news/aafn-con/NOW.1155014/company-news',\n",
       "  '/en/stocks/news/aafn-con/NOW.1154992/company-news',\n",
       "  '/en/stocks/news/aafn-con/NOW.1154988/company-news',\n",
       "  '/en/stocks/news/aafn-con/NOW.1155034/company-news',\n",
       "  '/en/stocks/news/aafn-con/NOW.1154978/company-news',\n",
       "  '/en/stocks/news/aafn-con/NOW.1154981/company-news',\n",
       "  '/en/stocks/news/aafn-con/NOW.1154974/company-news',\n",
       "  '/en/stocks/news/aafn-con/NOW.1154962/company-news',\n",
       "  '/en/stocks/news/aafn-con/NOW.1154948/company-news',\n",
       "  '/en/stocks/news/aafn-con/NOW.1154953/company-news',\n",
       "  '/en/stocks/news/aafn-con/NOW.1154940/company-news',\n",
       "  '/en/stocks/news/aafn-con/NOW.1154930/company-news',\n",
       "  '/en/stocks/news/aafn-con/NOW.1154938/company-news',\n",
       "  '/en/stocks/news/aafn-con/NOW.1154923/company-news',\n",
       "  '/en/stocks/news/aafn-con/NOW.1154922/company-news',\n",
       "  '/en/stocks/news/aafn-con/NOW.1154921/company-news',\n",
       "  '/en/stocks/news/aafn-con/NOW.1154917/company-news',\n",
       "  '/en/stocks/news/aafn-con/NOW.1154916/company-news',\n",
       "  '/en/stocks/news/aafn-con/NOW.1154909/company-news',\n",
       "  '/en/stocks/news/aafn-con/NOW.1154908/company-news',\n",
       "  '/en/stocks/news/aafn-con/NOW.1154905/company-news',\n",
       "  '/en/stocks/news/aafn-con/NOW.1154904/company-news',\n",
       "  '/en/stocks/news/aafn-con/NOW.1154902/company-news',\n",
       "  '/en/stocks/news/aafn-con/NOW.1154899/company-news',\n",
       "  '/en/stocks/news/aafn-con/NOW.1154895/company-news',\n",
       "  '/en/stocks/news/aafn-con/NOW.1154894/company-news',\n",
       "  '/en/stocks/news/aafn-con/NOW.1154880/company-news',\n",
       "  '/en/stocks/news/aafn-con/NOW.1154869/company-news',\n",
       "  '/en/stocks/news/aafn-con/NOW.1154866/company-news',\n",
       "  '/en/stocks/news/aafn-con/NOW.1154865/company-news',\n",
       "  '/en/stocks/news/aafn-con/NOW.1154861/company-news',\n",
       "  '/en/stocks/news/aafn-con/NOW.1154859/company-news',\n",
       "  '/en/stocks/news/aafn-con/NOW.1154845/company-news',\n",
       "  '/en/stocks/news/aafn-con/NOW.1154841/company-news',\n",
       "  '/en/stocks/news/aafn-con/NOW.1154839/company-news',\n",
       "  '/en/stocks/news/aafn-con/NOW.1154833/company-news',\n",
       "  '/en/stocks/news/aafn-con/NOW.1154829/company-news',\n",
       "  '/en/stocks/news/aafn-con/NOW.1154830/company-news',\n",
       "  '/en/stocks/news/aafn-con/NOW.1154828/company-news',\n",
       "  '/en/stocks/news/aafn-con/NOW.1154827/company-news',\n",
       "  '/en/stocks/news/aafn-con/NOW.1154826/company-news',\n",
       "  '/en/stocks/news/aafn-con/NOW.1154821/company-news',\n",
       "  '/en/stocks/news/aafn-con/NOW.1154812/company-news',\n",
       "  '/en/stocks/news/aafn-con/NOW.1154811/company-news',\n",
       "  '/en/stocks/news/aafn-con/NOW.1154807/company-news',\n",
       "  '/en/stocks/news/aafn-con/RUM.220111_143705/company-news',\n",
       "  '/en/stocks/news/aafn-con/NOW.1154804/company-news',\n",
       "  '/en/stocks/news/aafn-con/NOW.1154806/company-news',\n",
       "  '/en/stocks/news/aafn-con/RUM.220111_141216/company-news',\n",
       "  '/en/stocks/news/aafn-con/NOW.1154794/company-news',\n",
       "  '/en/stocks/news/aafn-con/NOW.1154790/company-news',\n",
       "  '/en/stocks/news/aafn-con/NOW.1154793/company-news',\n",
       "  '/en/stocks/news/aafn-con/NOW.1154792/company-news',\n",
       "  '/en/stocks/news/aafn-con/NOW.1154795/company-news',\n",
       "  '/en/stocks/news/aafn-con/NOW.1154798/company-news',\n",
       "  '/en/stocks/news/aafn-con/NOW.1154784/company-news',\n",
       "  '/en/stocks/news/aafn-con/NOW.1154785/company-news',\n",
       "  '/en/stocks/news/aafn-con/NOW.1154782/company-news',\n",
       "  '/en/stocks/news/aafn-con/NOW.1154783/company-news',\n",
       "  '/en/stocks/news/aafn-con/NOW.1154781/company-news',\n",
       "  '/en/stocks/news/aafn-con/NOW.1154780/company-news',\n",
       "  '/en/stocks/news/aafn-con/NOW.1154779/company-news',\n",
       "  '/en/stocks/news/aafn-con/NOW.1154778/company-news',\n",
       "  '/en/stocks/news/aafn-con/NOW.1154762/company-news',\n",
       "  '/en/stocks/news/aafn-con/NOW.1154755/company-news',\n",
       "  '/en/stocks/news/aafn-con/NOW.1154753/company-news',\n",
       "  '/en/stocks/news/aafn-con/RUM.220111_115029/company-news',\n",
       "  '/en/stocks/news/aafn-con/NOW.1154749/company-news',\n",
       "  '/en/stocks/news/aafn-con/NOW.1154748/company-news',\n",
       "  '/en/stocks/news/aafn-con/.HK.220111_113922/company-news',\n",
       "  '/en/stocks/news/aafn-con/NOW.1154750/company-news',\n",
       "  '/en/stocks/news/aafn-con/RUM.220111_113630/company-news',\n",
       "  '/en/stocks/news/aafn-con/NOW.1154746/company-news',\n",
       "  '/en/stocks/news/aafn-con/NOW.1154745/company-news',\n",
       "  '/en/stocks/news/aafn-con/NOW.1154743/company-news',\n",
       "  '/en/stocks/news/aafn-con/RUM.220111_112254/company-news',\n",
       "  '/en/stocks/news/aafn-con/NOW.1154737/company-news',\n",
       "  '/en/stocks/news/aafn-con/NOW.1154742/company-news',\n",
       "  '/en/stocks/news/aafn-con/NOW.1154722/company-news',\n",
       "  '/en/stocks/news/aafn-con/NOW.1154733/company-news',\n",
       "  '/en/stocks/news/aafn-con/NOW.1154700/company-news',\n",
       "  '/en/stocks/news/aafn-con/NOW.1154699/company-news',\n",
       "  '/en/stocks/news/aafn-con/NOW.1154715/company-news',\n",
       "  '/en/stocks/news/aafn-con/NOW.1154698/company-news',\n",
       "  '/en/stocks/news/aafn-con/NOW.1154732/company-news',\n",
       "  '/en/stocks/news/aafn-con/NOW.1154714/company-news',\n",
       "  '/en/stocks/news/aafn-con/NOW.1154681/company-news',\n",
       "  '/en/stocks/news/aafn-con/NOW.1154678/company-news',\n",
       "  '/en/stocks/news/aafn-con/NOW.1154674/company-news',\n",
       "  '/en/stocks/news/aafn-con/NOW.1154668/company-news',\n",
       "  '/en/stocks/news/aafn-con/NOW.1154670/company-news',\n",
       "  '/en/stocks/news/aafn-con/NOW.1154669/company-news',\n",
       "  '/en/stocks/news/aafn-con/.HK.220111_093845/company-news',\n",
       "  '/en/stocks/news/aafn-con/NOW.1154665/company-news',\n",
       "  '/en/stocks/news/aafn-con/NOW.1154661/company-news',\n",
       "  '/en/stocks/news/aafn-con/NOW.1154712/company-news',\n",
       "  '/en/stocks/news/aafn-con/NOW.1154667/company-news',\n",
       "  '/en/stocks/news/aafn-con/NOW.1154657/company-news',\n",
       "  '/en/stocks/news/aafn-con/NOW.1154685/company-news',\n",
       "  '/en/stocks/news/aafn-con/NOW.1154649/company-news',\n",
       "  '/en/stocks/news/aafn-con/NOW.1154650/company-news',\n",
       "  '/en/stocks/news/aafn-con/NOW.1154640/company-news',\n",
       "  '/en/stocks/news/aafn-con/NOW.1154625/company-news',\n",
       "  '/en/stocks/news/aafn-con/NOW.1154620/company-news',\n",
       "  '/en/stocks/news/aafn-con/NOW.1154615/company-news',\n",
       "  '/en/stocks/news/aafn-con/NOW.1154612/company-news',\n",
       "  '/en/stocks/news/aafn-con/NOW.1154608/company-news',\n",
       "  '/en/stocks/news/aafn-con/NOW.1154607/company-news',\n",
       "  '/en/stocks/news/aafn-con/NOW.1154598/company-news',\n",
       "  '/en/stocks/news/aafn-con/NOW.1154597/company-news',\n",
       "  '/en/stocks/news/aafn-con/NOW.1154596/company-news',\n",
       "  '/en/stocks/news/aafn-con/NOW.1154595/company-news',\n",
       "  '/en/stocks/news/aafn-con/NOW.1154594/company-news',\n",
       "  '/en/stocks/news/aafn-con/NOW.1154593/company-news',\n",
       "  '/en/stocks/news/aafn-con/NOW.1154591/company-news',\n",
       "  '/en/stocks/news/aafn-con/NOW.1154586/company-news',\n",
       "  '/en/stocks/news/aafn-con/NOW.1154585/company-news',\n",
       "  '/en/stocks/news/aafn-con/NOW.1154583/company-news',\n",
       "  '/en/stocks/news/aafn-con/NOW.1154577/company-news',\n",
       "  '/en/stocks/news/aafn-con/NOW.1154573/company-news',\n",
       "  '/en/stocks/news/aafn-con/NOW.1154563/company-news',\n",
       "  '/en/stocks/news/aafn-con/NOW.1154554/company-news',\n",
       "  '/en/stocks/news/aafn-con/NOW.1154535/company-news',\n",
       "  '/en/stocks/news/aafn-con/NOW.1154534/company-news',\n",
       "  '/en/stocks/news/aafn-con/NOW.1154523/company-news',\n",
       "  '/en/stocks/news/aafn-con/RUM.220110_153451/company-news',\n",
       "  '/en/stocks/news/aafn-con/NOW.1154519/company-news',\n",
       "  '/en/stocks/news/aafn-con/NOW.1154516/company-news',\n",
       "  '/en/stocks/news/aafn-con/NOW.1154511/company-news',\n",
       "  '/en/stocks/news/aafn-con/NOW.1154508/company-news',\n",
       "  '/en/stocks/news/aafn-con/NOW.1154510/company-news',\n",
       "  '/en/stocks/news/aafn-con/NOW.1154505/company-news',\n",
       "  '/en/stocks/news/aafn-con/NOW.1154514/company-news',\n",
       "  '/en/stocks/news/aafn-con/NOW.1154500/company-news',\n",
       "  '/en/stocks/news/aafn-con/NOW.1154499/company-news',\n",
       "  '/en/stocks/news/aafn-con/NOW.1154501/company-news',\n",
       "  '/en/stocks/news/aafn-con/NOW.1154502/company-news',\n",
       "  '/en/stocks/news/aafn-con/RUM.220110_140713/company-news',\n",
       "  '/en/stocks/news/aafn-con/NOW.1154492/company-news',\n",
       "  '/en/stocks/news/aafn-con/NOW.1154491/company-news',\n",
       "  '/en/stocks/news/aafn-con/NOW.1154476/company-news',\n",
       "  '/en/stocks/news/aafn-con/NOW.1154474/company-news',\n",
       "  '/en/stocks/news/aafn-con/NOW.1154467/company-news',\n",
       "  '/en/stocks/news/aafn-con/NOW.1154461/company-news',\n",
       "  '/en/stocks/news/aafn-con/NOW.1154456/company-news',\n",
       "  '/en/stocks/news/aafn-con/RUM.220110_114627/company-news',\n",
       "  '/en/stocks/news/aafn-con/RUM.220110_114528/company-news',\n",
       "  '/en/stocks/news/aafn-con/NOW.1154455/company-news',\n",
       "  '/en/stocks/news/aafn-con/NOW.1154463/company-news',\n",
       "  '/en/stocks/news/aafn-con/NOW.1154460/company-news',\n",
       "  '/en/stocks/news/aafn-con/NOW.1154449/company-news',\n",
       "  '/en/stocks/news/aafn-con/NOW.1154441/company-news',\n",
       "  '/en/stocks/news/aafn-con/NOW.1154438/company-news',\n",
       "  '/en/stocks/news/aafn-con/NOW.1154458/company-news',\n",
       "  '/en/stocks/news/aafn-con/NOW.1154428/company-news',\n",
       "  '/en/stocks/news/aafn-con/NOW.1154427/company-news',\n",
       "  '/en/stocks/news/aafn-con/NOW.1154432/company-news',\n",
       "  '/en/stocks/news/aafn-con/NOW.1154437/company-news',\n",
       "  '/en/stocks/news/aafn-con/RUM.220110_104906/company-news',\n",
       "  '/en/stocks/news/aafn-con/NOW.1154418/company-news',\n",
       "  '/en/stocks/news/aafn-con/NOW.1154440/company-news',\n",
       "  '/en/stocks/news/aafn-con/NOW.1154423/company-news',\n",
       "  '/en/stocks/news/aafn-con/NOW.1154435/company-news',\n",
       "  '/en/stocks/news/aafn-con/NOW.1154414/company-news',\n",
       "  '/en/stocks/news/aafn-con/NOW.1154420/company-news',\n",
       "  '/en/stocks/news/aafn-con/NOW.1154429/company-news',\n",
       "  '/en/stocks/news/aafn-con/NOW.1154411/company-news',\n",
       "  '/en/stocks/news/aafn-con/NOW.1154412/company-news',\n",
       "  '/en/stocks/news/aafn-con/NOW.1154409/company-news',\n",
       "  '/en/stocks/news/aafn-con/NOW.1154426/company-news',\n",
       "  '/en/stocks/news/aafn-con/NOW.1154405/company-news',\n",
       "  '/en/stocks/news/aafn-con/NOW.1154430/company-news',\n",
       "  '/en/stocks/news/aafn-con/NOW.1154402/company-news',\n",
       "  '/en/stocks/news/aafn-con/NOW.1154404/company-news',\n",
       "  '/en/stocks/news/aafn-con/NOW.1154401/company-news',\n",
       "  '/en/stocks/news/aafn-con/NOW.1154397/company-news',\n",
       "  '/en/stocks/news/aafn-con/NOW.1154393/company-news',\n",
       "  '/en/stocks/news/aafn-con/NOW.1154407/company-news',\n",
       "  '/en/stocks/news/aafn-con/NOW.1154389/company-news',\n",
       "  '/en/stocks/news/aafn-con/NOW.1154419/company-news',\n",
       "  '/en/stocks/news/aafn-con/NOW.1154390/company-news',\n",
       "  '/en/stocks/news/aafn-con/NOW.1154386/company-news',\n",
       "  '/en/stocks/news/aafn-con/NOW.1154383/company-news',\n",
       "  '/en/stocks/news/aafn-con/NOW.1154417/company-news',\n",
       "  '/en/stocks/news/aafn-con/RUM.220110_100029/company-news',\n",
       "  '/en/stocks/news/aafn-con/NOW.1154399/company-news',\n",
       "  '/en/stocks/news/aafn-con/NOW.1154385/company-news',\n",
       "  '/en/stocks/news/aafn-con/NOW.1154388/company-news',\n",
       "  '/en/stocks/news/aafn-con/NOW.1154379/company-news',\n",
       "  '/en/stocks/news/aafn-con/NOW.1154364/company-news',\n",
       "  '/en/stocks/news/aafn-con/NOW.1154367/company-news',\n",
       "  '/en/stocks/news/aafn-con/NOW.1154365/company-news',\n",
       "  '/en/stocks/news/aafn-con/NOW.1154358/company-news',\n",
       "  '/en/stocks/news/aafn-con/NOW.1154346/company-news',\n",
       "  '/en/stocks/news/aafn-con/NOW.1154352/company-news',\n",
       "  '/en/stocks/news/aafn-con/NOW.1154361/company-news',\n",
       "  '/en/stocks/news/aafn-con/NOW.1154337/company-news',\n",
       "  '/en/stocks/news/aafn-con/NOW.1154332/company-news',\n",
       "  '/en/stocks/news/aafn-con/NOW.1154315/company-news',\n",
       "  '/en/stocks/news/aafn-con/NOW.1154312/company-news',\n",
       "  '/en/stocks/news/aafn-con/NOW.1154311/company-news',\n",
       "  '/en/stocks/news/aafn-con/NOW.1154314/company-news',\n",
       "  '/en/stocks/news/aafn-con/NOW.1154306/company-news',\n",
       "  '/en/stocks/news/aafn-con/NOW.1154295/company-news',\n",
       "  '/en/stocks/news/aafn-con/NOW.1154305/company-news',\n",
       "  '/en/stocks/news/aafn-con/NOW.1154294/company-news',\n",
       "  '/en/stocks/news/aafn-con/NOW.1154296/company-news',\n",
       "  '/en/stocks/news/aafn-con/NOW.1154291/company-news',\n",
       "  '/en/stocks/news/aafn-con/NOW.1154290/company-news',\n",
       "  '/en/stocks/news/aafn-con/NOW.1154287/company-news',\n",
       "  '/en/stocks/news/aafn-con/NOW.1154283/company-news',\n",
       "  '/en/stocks/news/aafn-con/NOW.1154281/company-news',\n",
       "  '/en/stocks/news/aafn-con/NOW.1154280/company-news',\n",
       "  '/en/stocks/news/aafn-con/NOW.1154278/company-news',\n",
       "  '/en/stocks/news/aafn-con/NOW.1154272/company-news',\n",
       "  '/en/stocks/news/aafn-con/NOW.1154271/company-news',\n",
       "  '/en/stocks/news/aafn-con/NOW.1154264/company-news',\n",
       "  '/en/stocks/news/aafn-con/NOW.1154261/company-news',\n",
       "  '/en/stocks/news/aafn-con/NOW.1154260/company-news',\n",
       "  '/en/stocks/news/aafn-con/NOW.1154241/company-news',\n",
       "  '/en/stocks/news/aafn-con/NOW.1154223/company-news',\n",
       "  '/en/stocks/news/aafn-con/NOW.1154216/company-news',\n",
       "  '/en/stocks/news/aafn-con/NOW.1154211/company-news',\n",
       "  '/en/stocks/news/aafn-con/NOW.1154199/company-news',\n",
       "  '/en/stocks/news/aafn-con/NOW.1154193/company-news',\n",
       "  '/en/stocks/news/aafn-con/NOW.1154192/company-news',\n",
       "  '/en/stocks/news/aafn-con/NOW.1154175/company-news',\n",
       "  '/en/stocks/news/aafn-con/NOW.1154172/company-news',\n",
       "  '/en/stocks/news/aafn-con/NOW.1154166/company-news',\n",
       "  '/en/stocks/news/aafn-con/NOW.1154159/company-news',\n",
       "  '/en/stocks/news/aafn-con/NOW.1154152/company-news',\n",
       "  '/en/stocks/news/aafn-con/NOW.1154149/company-news',\n",
       "  '/en/stocks/news/aafn-con/NOW.1154141/company-news',\n",
       "  '/en/stocks/news/aafn-con/RUM.220107_143739/company-news'])"
      ]
     },
     "execution_count": 8,
     "metadata": {},
     "output_type": "execute_result"
    }
   ],
   "source": [
    "Headline , len(Headline), href"
   ]
  },
  {
   "cell_type": "markdown",
   "metadata": {},
   "source": [
    "### time and polarity"
   ]
  },
  {
   "cell_type": "code",
   "execution_count": 9,
   "metadata": {},
   "outputs": [],
   "source": [
    "time_list=[]\n",
    "polarity=[]"
   ]
  },
  {
   "cell_type": "code",
   "execution_count": 10,
   "metadata": {
    "tags": []
   },
   "outputs": [],
   "source": [
    "data2 = soup.find_all(\"div\", attrs={\"class\": \"newstime4\"})"
   ]
  },
  {
   "cell_type": "code",
   "execution_count": 11,
   "metadata": {
    "tags": []
   },
   "outputs": [
    {
     "data": {
      "text/plain": [
       "' 2022/01/12 18:25'"
      ]
     },
     "execution_count": 11,
     "metadata": {},
     "output_type": "execute_result"
    }
   ],
   "source": [
    "data2[0].text[:17]"
   ]
  },
  {
   "cell_type": "code",
   "execution_count": 12,
   "metadata": {},
   "outputs": [
    {
     "data": {
      "text/plain": [
       "'48'"
      ]
     },
     "execution_count": 12,
     "metadata": {},
     "output_type": "execute_result"
    }
   ],
   "source": [
    "data2[0].find_all('div',{'class':'value'})[1].text"
   ]
  },
  {
   "cell_type": "code",
   "execution_count": 13,
   "metadata": {},
   "outputs": [],
   "source": [
    "for i in range(len(data2)):\n",
    "    if len(data2[i].text) != 0:\n",
    "        #print(i)\n",
    "        if i <=40:\n",
    "            time_list.append(data2[i].div.text[:-1])\n",
    "            polarity.append(data2[i].find_all('div',{'class':'value'})[1].text)\n",
    "        else:\n",
    "            time_list.append(data2[i].div.text)\n",
    "            polarity.append(data2[i].find_all('div',{'class':'value'})[1].text)"
   ]
  },
  {
   "cell_type": "code",
   "execution_count": 14,
   "metadata": {
    "collapsed": true,
    "jupyter": {
     "outputs_hidden": true
    }
   },
   "outputs": [
    {
     "data": {
      "text/plain": [
       "(300,\n",
       " ['2022/01/12 18:25',\n",
       "  '2022/01/12 17:51',\n",
       "  '2022/01/12 17:39',\n",
       "  '2022/01/12 17:33',\n",
       "  '2022/01/12 17:27',\n",
       "  '2022/01/12 17:13',\n",
       "  '2022/01/12 17:06',\n",
       "  '2022/01/12 16:30',\n",
       "  '2022/01/12 15:59',\n",
       "  '2022/01/12 15:50',\n",
       "  '2022/01/12 15:34',\n",
       "  '2022/01/12 15:34',\n",
       "  '2022/01/12 14:45',\n",
       "  '2022/01/12 14:28',\n",
       "  '2022/01/12 14:22',\n",
       "  '2022/01/12 14:16',\n",
       "  '2022/01/12 14:09',\n",
       "  '2022/01/12 14:04',\n",
       "  '2022/01/12 13:48',\n",
       "  '2022/01/12 13:38',\n",
       "  '2022/01/12 13:2',\n",
       "  '2022/01/12 13:26',\n",
       "  '2022/01/12 13:24',\n",
       "  '2022/01/12 13:23',\n",
       "  '2022/01/12 13:21',\n",
       "  '2022/01/12 13:21',\n",
       "  '2022/01/12 12:55',\n",
       "  '2022/01/12 12:46',\n",
       "  '2022/01/12 12:30',\n",
       "  '2022/01/12 12:10',\n",
       "  '2022/01/12 12:08',\n",
       "  '2022/01/12 11:50',\n",
       "  '2022/01/12 11:44',\n",
       "  '2022/01/12 11:38',\n",
       "  '2022/01/12 11:35',\n",
       "  '2022/01/12 11:30',\n",
       "  '2022/01/12 11:16',\n",
       "  '2022/01/12 11:13',\n",
       "  '2022/01/12 11:10',\n",
       "  '2022/01/12 10:55',\n",
       "  '2022/01/12 10:52',\n",
       "  '2022/01/12 10:52',\n",
       "  '2022/01/12 10:50',\n",
       "  '2022/01/12 10:44',\n",
       "  '2022/01/12 10:37',\n",
       "  '2022/01/12 10:35',\n",
       "  '2022/01/12 10:25',\n",
       "  '2022/01/12 10:20',\n",
       "  '2022/01/12 10:18',\n",
       "  '2022/01/12 10:18',\n",
       "  '2022/01/12 10:14',\n",
       "  '2022/01/12 10:11',\n",
       "  '2022/01/12 10:11',\n",
       "  '2022/01/12 10:05',\n",
       "  '2022/01/12 10:04',\n",
       "  '2022/01/12 10:02',\n",
       "  '2022/01/12 09:55',\n",
       "  '2022/01/12 09:54',\n",
       "  '2022/01/12 09:51',\n",
       "  '2022/01/12 09:49',\n",
       "  '2022/01/12 09:49',\n",
       "  '2022/01/12 09:45',\n",
       "  '2022/01/12 09:45',\n",
       "  '2022/01/12 09:44',\n",
       "  '2022/01/12 09:43',\n",
       "  '2022/01/12 09:42',\n",
       "  '2022/01/12 09:39',\n",
       "  '2022/01/12 09:38',\n",
       "  '2022/01/12 09:35',\n",
       "  '2022/01/12 09:31',\n",
       "  '2022/01/12 09:26',\n",
       "  '2022/01/12 09:26',\n",
       "  '2022/01/12 09:15',\n",
       "  '2022/01/12 09:06',\n",
       "  '2022/01/12 08:42',\n",
       "  '2022/01/12 08:29',\n",
       "  '2022/01/12 08:09',\n",
       "  '2022/01/12 08:08',\n",
       "  '2022/01/12 07:46',\n",
       "  '2022/01/12 07:43',\n",
       "  '2022/01/12 07:30',\n",
       "  '2022/01/12 04:09',\n",
       "  '2022/01/12 03:56',\n",
       "  '2022/01/12 03:56',\n",
       "  '2022/01/12 03:38',\n",
       "  '2022/01/12 03:37',\n",
       "  '2022/01/12 03:35',\n",
       "  '2022/01/12 03:35',\n",
       "  '2022/01/12 03:33',\n",
       "  '2022/01/11 18:25',\n",
       "  '2022/01/11 17:49',\n",
       "  '2022/01/11 17:33',\n",
       "  '2022/01/11 17:04',\n",
       "  '2022/01/11 16:53',\n",
       "  '2022/01/11 16:50',\n",
       "  '2022/01/11 16:49',\n",
       "  '2022/01/11 16:47',\n",
       "  '2022/01/11 16:44',\n",
       "  '2022/01/11 16:30',\n",
       "  '2022/01/11 16:15',\n",
       "  '2022/01/11 16:12',\n",
       "  '2022/01/11 16:01',\n",
       "  '2022/01/11 15:43',\n",
       "  '2022/01/11 15:39',\n",
       "  '2022/01/11 15:34',\n",
       "  '2022/01/11 15:33',\n",
       "  '2022/01/11 15:07',\n",
       "  '2022/01/11 14:56',\n",
       "  '2022/01/11 14:54',\n",
       "  '2022/01/11 14:53',\n",
       "  '2022/01/11 14:38',\n",
       "  '2022/01/11 14:37',\n",
       "  '2022/01/11 14:35',\n",
       "  '2022/01/11 14:26',\n",
       "  '2022/01/11 14:12',\n",
       "  '2022/01/11 14:03',\n",
       "  '2022/01/11 14:03',\n",
       "  '2022/01/11 14:02',\n",
       "  '2022/01/11 14:02',\n",
       "  '2022/01/11 14:00',\n",
       "  '2022/01/11 14:00',\n",
       "  '2022/01/11 13:49',\n",
       "  '2022/01/11 13:48',\n",
       "  '2022/01/11 13:48',\n",
       "  '2022/01/11 13:47',\n",
       "  '2022/01/11 13:47',\n",
       "  '2022/01/11 13:36',\n",
       "  '2022/01/11 13:36',\n",
       "  '2022/01/11 13:35',\n",
       "  '2022/01/11 12:30',\n",
       "  '2022/01/11 12:03',\n",
       "  '2022/01/11 12:00',\n",
       "  '2022/01/11 11:50',\n",
       "  '2022/01/11 11:44',\n",
       "  '2022/01/11 11:40',\n",
       "  '2022/01/11 11:39',\n",
       "  '2022/01/11 11:36',\n",
       "  '2022/01/11 11:36',\n",
       "  '2022/01/11 11:34',\n",
       "  '2022/01/11 11:33',\n",
       "  '2022/01/11 11:25',\n",
       "  '2022/01/11 11:22',\n",
       "  '2022/01/11 10:57',\n",
       "  '2022/01/11 10:54',\n",
       "  '2022/01/11 10:43',\n",
       "  '2022/01/11 10:18',\n",
       "  '2022/01/11 10:14',\n",
       "  '2022/01/11 10:11',\n",
       "  '2022/01/11 10:10',\n",
       "  '2022/01/11 10:09',\n",
       "  '2022/01/11 10:07',\n",
       "  '2022/01/11 10:06',\n",
       "  '2022/01/11 09:59',\n",
       "  '2022/01/11 09:54',\n",
       "  '2022/01/11 09:50',\n",
       "  '2022/01/11 09:45',\n",
       "  '2022/01/11 09:42',\n",
       "  '2022/01/11 09:41',\n",
       "  '2022/01/11 09:38',\n",
       "  '2022/01/11 09:35',\n",
       "  '2022/01/11 09:35',\n",
       "  '2022/01/11 09:28',\n",
       "  '2022/01/11 09:27',\n",
       "  '2022/01/11 09:27',\n",
       "  '2022/01/11 09:20',\n",
       "  '2022/01/11 09:19',\n",
       "  '2022/01/11 09:11',\n",
       "  '2022/01/11 08:54',\n",
       "  '2022/01/11 08:26',\n",
       "  '2022/01/11 08:17',\n",
       "  '2022/01/11 07:10',\n",
       "  '2022/01/11 07:09',\n",
       "  '2022/01/11 07:08',\n",
       "  '2022/01/11 07:08',\n",
       "  '2022/01/11 04:00',\n",
       "  '2022/01/11 03:59',\n",
       "  '2022/01/11 03:59',\n",
       "  '2022/01/11 03:59',\n",
       "  '2022/01/11 03:58',\n",
       "  '2022/01/11 03:58',\n",
       "  '2022/01/11 03:56',\n",
       "  '2022/01/10 18:40',\n",
       "  '2022/01/10 18:27',\n",
       "  '2022/01/10 18:25',\n",
       "  '2022/01/10 17:49',\n",
       "  '2022/01/10 17:47',\n",
       "  '2022/01/10 17:19',\n",
       "  '2022/01/10 17:02',\n",
       "  '2022/01/10 16:30',\n",
       "  '2022/01/10 16:17',\n",
       "  '2022/01/10 15:41',\n",
       "  '2022/01/10 15:34',\n",
       "  '2022/01/10 15:29',\n",
       "  '2022/01/10 15:14',\n",
       "  '2022/01/10 15:06',\n",
       "  '2022/01/10 14:45',\n",
       "  '2022/01/10 14:36',\n",
       "  '2022/01/10 14:35',\n",
       "  '2022/01/10 14:29',\n",
       "  '2022/01/10 14:26',\n",
       "  '2022/01/10 14:26',\n",
       "  '2022/01/10 14:25',\n",
       "  '2022/01/10 14:13',\n",
       "  '2022/01/10 14:07',\n",
       "  '2022/01/10 13:56',\n",
       "  '2022/01/10 13:49',\n",
       "  '2022/01/10 12:30',\n",
       "  '2022/01/10 12:30',\n",
       "  '2022/01/10 12:10',\n",
       "  '2022/01/10 12:05',\n",
       "  '2022/01/10 11:53',\n",
       "  '2022/01/10 11:46',\n",
       "  '2022/01/10 11:45',\n",
       "  '2022/01/10 11:43',\n",
       "  '2022/01/10 11:30',\n",
       "  '2022/01/10 11:24',\n",
       "  '2022/01/10 11:23',\n",
       "  '2022/01/10 11:20',\n",
       "  '2022/01/10 11:14',\n",
       "  '2022/01/10 11:04',\n",
       "  '2022/01/10 11:04',\n",
       "  '2022/01/10 10:58',\n",
       "  '2022/01/10 10:56',\n",
       "  '2022/01/10 10:49',\n",
       "  '2022/01/10 10:49',\n",
       "  '2022/01/10 10:48',\n",
       "  '2022/01/10 10:47',\n",
       "  '2022/01/10 10:45',\n",
       "  '2022/01/10 10:44',\n",
       "  '2022/01/10 10:40',\n",
       "  '2022/01/10 10:39',\n",
       "  '2022/01/10 10:39',\n",
       "  '2022/01/10 10:38',\n",
       "  '2022/01/10 10:35',\n",
       "  '2022/01/10 10:31',\n",
       "  '2022/01/10 10:29',\n",
       "  '2022/01/10 10:26',\n",
       "  '2022/01/10 10:25',\n",
       "  '2022/01/10 10:24',\n",
       "  '2022/01/10 10:24',\n",
       "  '2022/01/10 10:18',\n",
       "  '2022/01/10 10:16',\n",
       "  '2022/01/10 10:15',\n",
       "  '2022/01/10 10:15',\n",
       "  '2022/01/10 10:11',\n",
       "  '2022/01/10 10:10',\n",
       "  '2022/01/10 10:07',\n",
       "  '2022/01/10 10:07',\n",
       "  '2022/01/10 10:06',\n",
       "  '2022/01/10 10:00',\n",
       "  '2022/01/10 10:00',\n",
       "  '2022/01/10 09:57',\n",
       "  '2022/01/10 09:53',\n",
       "  '2022/01/10 09:52',\n",
       "  '2022/01/10 09:40',\n",
       "  '2022/01/10 09:36',\n",
       "  '2022/01/10 09:36',\n",
       "  '2022/01/10 09:35',\n",
       "  '2022/01/10 09:35',\n",
       "  '2022/01/10 09:25',\n",
       "  '2022/01/10 09:25',\n",
       "  '2022/01/10 09:22',\n",
       "  '2022/01/10 09:11',\n",
       "  '2022/01/10 08:56',\n",
       "  '2022/01/10 08:39',\n",
       "  '2022/01/10 08:36',\n",
       "  '2022/01/10 08:33',\n",
       "  '2022/01/10 08:31',\n",
       "  '2022/01/10 08:16',\n",
       "  '2022/01/10 08:09',\n",
       "  '2022/01/10 08:06',\n",
       "  '2022/01/10 07:34',\n",
       "  '2022/01/10 07:33',\n",
       "  '2022/01/10 07:32',\n",
       "  '2022/01/10 07:31',\n",
       "  '2022/01/09 17:42',\n",
       "  '2022/01/09 16:01',\n",
       "  '2022/01/09 15:01',\n",
       "  '2022/01/09 14:33',\n",
       "  '2022/01/09 13:36',\n",
       "  '2022/01/09 09:32',\n",
       "  '2022/01/09 09:03',\n",
       "  '2022/01/08 15:35',\n",
       "  '2022/01/08 14:02',\n",
       "  '2022/01/08 13:27',\n",
       "  '2022/01/08 09:11',\n",
       "  '2022/01/07 18:25',\n",
       "  '2022/01/07 17:52',\n",
       "  '2022/01/07 17:33',\n",
       "  '2022/01/07 16:58',\n",
       "  '2022/01/07 16:49',\n",
       "  '2022/01/07 16:49',\n",
       "  '2022/01/07 16:30',\n",
       "  '2022/01/07 16:18',\n",
       "  '2022/01/07 16:14',\n",
       "  '2022/01/07 15:47',\n",
       "  '2022/01/07 15:08',\n",
       "  '2022/01/07 14:45',\n",
       "  '2022/01/07 14:44',\n",
       "  '2022/01/07 14:37'])"
      ]
     },
     "execution_count": 14,
     "metadata": {},
     "output_type": "execute_result"
    }
   ],
   "source": [
    "len(time_list),time_list"
   ]
  },
  {
   "cell_type": "code",
   "execution_count": 15,
   "metadata": {},
   "outputs": [
    {
     "data": {
      "text/plain": [
       "300"
      ]
     },
     "execution_count": 15,
     "metadata": {},
     "output_type": "execute_result"
    }
   ],
   "source": [
    "len(polarity)"
   ]
  },
  {
   "cell_type": "markdown",
   "metadata": {},
   "source": [
    "### abstract,stock code and company name"
   ]
  },
  {
   "cell_type": "code",
   "execution_count": 16,
   "metadata": {},
   "outputs": [],
   "source": [
    "import re\n",
    "head = 'http://www.aastocks.com'"
   ]
  },
  {
   "cell_type": "code",
   "execution_count": 17,
   "metadata": {
    "tags": []
   },
   "outputs": [],
   "source": [
    "abstract_list = []\n",
    "stock_code_list = []\n",
    "stock_name_list = []\n",
    "for i in range(len(href)):\n",
    "    url=head+href[i]\n",
    "    #print(url)\n",
    "\n",
    "    html_content = requests.get(url).text\n",
    "    soup = BeautifulSoup(html_content, \"lxml\")\n",
    "    \n",
    "    stock_code = []\n",
    "    abstract=soup.find_all('p')\n",
    "    if len(abstract) == 0:\n",
    "        abstract = ''\n",
    "        abstract_list.append('')\n",
    "        stock_code.append('')\n",
    "    else:\n",
    "    #print(abstract)\n",
    "    #print(abstract)\n",
    "        abstract_list.append(abstract[0].text.replace('\\xa0',''))\n",
    "        it = re.finditer(r'\\d+'+\".HK\", abstract[0].text.replace('\\xa0',''))\n",
    "        for match in it: \n",
    "            if match.group() not in stock_code:\n",
    "                stock_code.append(match.group())\n",
    "    stock_code_list.append(stock_code)\n",
    "    \n",
    "    "
   ]
  },
  {
   "cell_type": "code",
   "execution_count": 18,
   "metadata": {},
   "outputs": [],
   "source": [
    "#this code is slow \n",
    "stock_name_list = []\n",
    "head2='https://money18.on.cc/info/hk/liveinfo_quote_'\n",
    "tail2='.html'\n",
    "for j in range(len(stock_code_list)):\n",
    "    stock_name = []\n",
    "    for k in stock_code_list[j]:\n",
    "        url = head2+str(k[:-3])+tail2\n",
    "        driver.get(url)\n",
    "        soup = BeautifulSoup(driver.page_source, \"lxml\")\n",
    "        text = soup.find('title').text[:-16]\n",
    "        if len(text)!=0: \n",
    "            stock_name.append(text)\n",
    "    stock_name_list.append(stock_name)"
   ]
  },
  {
   "cell_type": "code",
   "execution_count": 19,
   "metadata": {},
   "outputs": [],
   "source": [
    "# an exsiting solution "
   ]
  },
  {
   "cell_type": "code",
   "execution_count": 20,
   "metadata": {},
   "outputs": [
    {
     "data": {
      "text/plain": [
       "300"
      ]
     },
     "execution_count": 20,
     "metadata": {},
     "output_type": "execute_result"
    }
   ],
   "source": [
    "len(stock_code_list)"
   ]
  },
  {
   "cell_type": "code",
   "execution_count": 21,
   "metadata": {},
   "outputs": [],
   "source": [
    "import pandas as pd"
   ]
  },
  {
   "cell_type": "code",
   "execution_count": 22,
   "metadata": {},
   "outputs": [],
   "source": [
    "df = pd.DataFrame(Headline,columns=['headline'])\n",
    "df['time']=time_list\n",
    "df['company_name']=stock_name_list\n",
    "df['stock_code']=stock_code_list\n",
    "df['abstract']=abstract_list\n",
    "df['polarity']=polarity"
   ]
  },
  {
   "cell_type": "code",
   "execution_count": 23,
   "metadata": {},
   "outputs": [],
   "source": [
    "df.to_csv('data.csv')"
   ]
  },
  {
   "cell_type": "code",
   "execution_count": null,
   "metadata": {},
   "outputs": [],
   "source": [
    "parse_data=pd.read_csv('data.csv')"
   ]
  },
  {
   "cell_type": "markdown",
   "metadata": {},
   "source": [
    "## Perform sentiment analysis"
   ]
  },
  {
   "cell_type": "markdown",
   "metadata": {},
   "source": [
    "### tagging"
   ]
  },
  {
   "cell_type": "code",
   "execution_count": null,
   "metadata": {},
   "outputs": [],
   "source": [
    "labels = ['Negative','Neutrual','Positive']"
   ]
  },
  {
   "cell_type": "code",
   "execution_count": 24,
   "metadata": {},
   "outputs": [],
   "source": [
    "import numpy as np"
   ]
  },
  {
   "cell_type": "code",
   "execution_count": 25,
   "metadata": {},
   "outputs": [],
   "source": [
    "low_thre,high_thre=pd.Series(polarity).astype(int).quantile(0.333),pd.Series(polarity).astype(int).quantile(0.666)"
   ]
  },
  {
   "cell_type": "code",
   "execution_count": 26,
   "metadata": {},
   "outputs": [],
   "source": [
    "label = []\n",
    "for i in polarity:\n",
    "    if int(i)<=low_thre:\n",
    "        label.append(0)\n",
    "    elif int(i)<=high_thre:\n",
    "        label.append(1)\n",
    "    else:\n",
    "        label.append(2)\n"
   ]
  },
  {
   "cell_type": "markdown",
   "metadata": {},
   "source": [
    "### preprocessing"
   ]
  },
  {
   "cell_type": "code",
   "execution_count": 27,
   "metadata": {},
   "outputs": [],
   "source": [
    "import string # from some string manipulation tasks\n",
    "import nltk # natural language toolkit\n",
    "from string import punctuation # solving punctuation problems\n",
    "from nltk.corpus import stopwords # stop words in sentences\n",
    "from nltk.stem import WordNetLemmatizer # For stemming the sentence\n",
    "from nltk.stem import SnowballStemmer # For stemming the sentence\n",
    "from autocorrect import Speller #correcting the spellings"
   ]
  },
  {
   "cell_type": "code",
   "execution_count": 28,
   "metadata": {},
   "outputs": [],
   "source": [
    "#ref:https://cnvrg.io/sentiment-analysis-python/?gclid=Cj0KCQiA8vSOBhCkARIsAGdp6RSlGJkCvA015o9tOHuDE3vFI9vsFL7n0rL9PJDi5y1oeeGgLUN2kPYaAma_EALw_wcB\n",
    "def sentence_tokenize(text):\n",
    "    return nltk.sent_tokenize(text) \n",
    "\n",
    "\n",
    "def to_lower(text):\n",
    "        \"\"\"\n",
    "        :param text:\n",
    "        :return:\n",
    "            Converted text to lower case as in, converting \"Hello\" to \"hello\" or \"HELLO\" to \"hello\".\n",
    "        \"\"\"\n",
    "        return text.lower() \n",
    "    \n",
    "def remove_stopwords(sentence):\n",
    "        \"\"\"\n",
    "        removes all the stop words like \"is,the,a, etc.\"\n",
    "        \"\"\"\n",
    "        stop_words = stopwords.words('english')\n",
    "        return ' '.join([w for w in nltk.word_tokenize(sentence) if not w in stop_words]) \n",
    "\n",
    "def remove_punct(text):\n",
    "  \n",
    "        return ''.join(c for c in text if c not in punctuation)     \n",
    "\n",
    "def lemmatize(text):\n",
    "    wordnet_lemmatizer = WordNetLemmatizer()\n",
    "\n",
    "    lemmatized_word = [wordnet_lemmatizer.lemmatize(word)for word in nltk.word_tokenize(text)]\n",
    "    return \" \".join(lemmatized_word) \n",
    "\n",
    "def word_tokenize(text):\n",
    "        return nltk.word_tokenize(text) \n",
    " \n",
    "    \n",
    "def remove_numbers(text):\n",
    "        output = ''.join(c for c in text if not c.isdigit())\n",
    "        return output "
   ]
  },
  {
   "cell_type": "code",
   "execution_count": 29,
   "metadata": {},
   "outputs": [],
   "source": [
    "def preprocess(text):\n",
    "    lower_text = to_lower(text)\n",
    "    sentence_tokens = sentence_tokenize(lower_text)\n",
    "    word_list = []\n",
    "    for each_sent in sentence_tokens:\n",
    "        lemmatizzed_sent = lemmatize(each_sent)\n",
    "        clean_text = remove_numbers(lemmatizzed_sent)\n",
    "        clean_text = remove_punct(clean_text)\n",
    "        clean_text = remove_stopwords(clean_text)\n",
    "        word_tokens = word_tokenize(clean_text)\n",
    "        for i in word_tokens:\n",
    "            word_list.append(i)\n",
    "    return word_list"
   ]
  },
  {
   "cell_type": "markdown",
   "metadata": {},
   "source": [
    "### MLP"
   ]
  },
  {
   "cell_type": "code",
   "execution_count": 30,
   "metadata": {},
   "outputs": [],
   "source": [
    "# Use a simple MLP"
   ]
  },
  {
   "cell_type": "code",
   "execution_count": 31,
   "metadata": {},
   "outputs": [],
   "source": [
    "from sklearn import metrics\n",
    "from sklearn.neural_network import MLPClassifier\n",
    "from sklearn.feature_extraction.text import TfidfVectorizer"
   ]
  },
  {
   "cell_type": "code",
   "execution_count": 32,
   "metadata": {},
   "outputs": [],
   "source": [
    "df_data = pd.DataFrame(abstract_list,columns=['DATA_COLUMN'])\n",
    "df_data['LABEL']=label"
   ]
  },
  {
   "cell_type": "code",
   "execution_count": 33,
   "metadata": {},
   "outputs": [],
   "source": [
    "Train = df_data[:239]\n",
    "Test = df_data[240:]"
   ]
  },
  {
   "cell_type": "code",
   "execution_count": 34,
   "metadata": {},
   "outputs": [
    {
     "data": {
      "text/html": [
       "<div>\n",
       "<style scoped>\n",
       "    .dataframe tbody tr th:only-of-type {\n",
       "        vertical-align: middle;\n",
       "    }\n",
       "\n",
       "    .dataframe tbody tr th {\n",
       "        vertical-align: top;\n",
       "    }\n",
       "\n",
       "    .dataframe thead th {\n",
       "        text-align: right;\n",
       "    }\n",
       "</style>\n",
       "<table border=\"1\" class=\"dataframe\">\n",
       "  <thead>\n",
       "    <tr style=\"text-align: right;\">\n",
       "      <th></th>\n",
       "      <th>DATA_COLUMN</th>\n",
       "      <th>LABEL</th>\n",
       "    </tr>\n",
       "  </thead>\n",
       "  <tbody>\n",
       "    <tr>\n",
       "      <th>0</th>\n",
       "      <td>There was HKD1.2 billion, HKD1.1 billion and H...</td>\n",
       "      <td>1</td>\n",
       "    </tr>\n",
       "    <tr>\n",
       "      <th>1</th>\n",
       "      <td>PICC P&amp;C (02328.HK)-0.060 (-0.845%) Short sell...</td>\n",
       "      <td>0</td>\n",
       "    </tr>\n",
       "    <tr>\n",
       "      <th>2</th>\n",
       "      <td>China's State Council issued the \"14th Five-Ye...</td>\n",
       "      <td>2</td>\n",
       "    </tr>\n",
       "    <tr>\n",
       "      <th>3</th>\n",
       "      <td>PETROCHINA (00857.HK)+0.120 (+3.243%) Short se...</td>\n",
       "      <td>2</td>\n",
       "    </tr>\n",
       "    <tr>\n",
       "      <th>4</th>\n",
       "      <td>The State Council issued the 14th Five-Year Pl...</td>\n",
       "      <td>2</td>\n",
       "    </tr>\n",
       "    <tr>\n",
       "      <th>...</th>\n",
       "      <td>...</td>\n",
       "      <td>...</td>\n",
       "    </tr>\n",
       "    <tr>\n",
       "      <th>234</th>\n",
       "      <td>C FIN INT INV (00721.HK)+0.002 (+2.000%)  anno...</td>\n",
       "      <td>0</td>\n",
       "    </tr>\n",
       "    <tr>\n",
       "      <th>235</th>\n",
       "      <td>Morgan Stanley believed HUA HONG SEMI (01347.H...</td>\n",
       "      <td>1</td>\n",
       "    </tr>\n",
       "    <tr>\n",
       "      <th>236</th>\n",
       "      <td></td>\n",
       "      <td>0</td>\n",
       "    </tr>\n",
       "    <tr>\n",
       "      <th>237</th>\n",
       "      <td>Morgan Stanley expected formal vocational educ...</td>\n",
       "      <td>0</td>\n",
       "    </tr>\n",
       "    <tr>\n",
       "      <th>238</th>\n",
       "      <td></td>\n",
       "      <td>0</td>\n",
       "    </tr>\n",
       "  </tbody>\n",
       "</table>\n",
       "<p>239 rows × 2 columns</p>\n",
       "</div>"
      ],
      "text/plain": [
       "                                           DATA_COLUMN  LABEL\n",
       "0    There was HKD1.2 billion, HKD1.1 billion and H...      1\n",
       "1    PICC P&C (02328.HK)-0.060 (-0.845%) Short sell...      0\n",
       "2    China's State Council issued the \"14th Five-Ye...      2\n",
       "3    PETROCHINA (00857.HK)+0.120 (+3.243%) Short se...      2\n",
       "4    The State Council issued the 14th Five-Year Pl...      2\n",
       "..                                                 ...    ...\n",
       "234  C FIN INT INV (00721.HK)+0.002 (+2.000%)  anno...      0\n",
       "235  Morgan Stanley believed HUA HONG SEMI (01347.H...      1\n",
       "236                                                         0\n",
       "237  Morgan Stanley expected formal vocational educ...      0\n",
       "238                                                         0\n",
       "\n",
       "[239 rows x 2 columns]"
      ]
     },
     "execution_count": 34,
     "metadata": {},
     "output_type": "execute_result"
    }
   ],
   "source": [
    "Train"
   ]
  },
  {
   "cell_type": "code",
   "execution_count": 35,
   "metadata": {},
   "outputs": [],
   "source": [
    "vectorizer = TfidfVectorizer(stop_words='english',lowercase=True)\n",
    "\n",
    "\n",
    "train_features= vectorizer.fit_transform(Train['DATA_COLUMN'])\n",
    "test_features= vectorizer.transform(Test['DATA_COLUMN'])"
   ]
  },
  {
   "cell_type": "code",
   "execution_count": 36,
   "metadata": {},
   "outputs": [
    {
     "data": {
      "text/plain": [
       "<60x3731 sparse matrix of type '<class 'numpy.float64'>'\n",
       "\twith 2841 stored elements in Compressed Sparse Row format>"
      ]
     },
     "execution_count": 36,
     "metadata": {},
     "output_type": "execute_result"
    }
   ],
   "source": [
    "test_features"
   ]
  },
  {
   "cell_type": "code",
   "execution_count": 37,
   "metadata": {},
   "outputs": [],
   "source": [
    "classifier = MLPClassifier(hidden_layer_sizes=(128,),max_iter=200,activation='relu',solver='sgd',\n",
    "                           learning_rate='invscaling',batch_size=30,random_state=1)"
   ]
  },
  {
   "cell_type": "code",
   "execution_count": 38,
   "metadata": {},
   "outputs": [
    {
     "name": "stdout",
     "output_type": "stream",
     "text": [
      "Wall time: 1.56 s\n"
     ]
    },
    {
     "data": {
      "text/plain": [
       "MLPClassifier(batch_size=30, hidden_layer_sizes=(128,),\n",
       "              learning_rate='invscaling', random_state=1, solver='sgd')"
      ]
     },
     "execution_count": 38,
     "metadata": {},
     "output_type": "execute_result"
    }
   ],
   "source": [
    "%%time\n",
    "classifier.fit(train_features,Train['LABEL'])"
   ]
  },
  {
   "cell_type": "code",
   "execution_count": 39,
   "metadata": {},
   "outputs": [],
   "source": [
    "predictions = classifier.predict(test_features)"
   ]
  },
  {
   "cell_type": "code",
   "execution_count": 40,
   "metadata": {},
   "outputs": [
    {
     "data": {
      "text/plain": [
       "array([1, 1, 1, 1, 1, 1, 1, 1, 1, 1, 1, 1, 1, 1, 1, 1, 1, 1, 1, 1, 1, 1,\n",
       "       1, 1, 1, 1, 1, 1, 1, 1, 1, 1, 1, 1, 1, 1, 1, 1, 1, 1, 1, 1, 1, 1,\n",
       "       1, 1, 1, 1, 1, 1, 1, 1, 1, 1, 1, 1, 1, 1, 1, 1], dtype=int64)"
      ]
     },
     "execution_count": 40,
     "metadata": {},
     "output_type": "execute_result"
    }
   ],
   "source": [
    "predictions # useless"
   ]
  },
  {
   "cell_type": "code",
   "execution_count": 76,
   "metadata": {},
   "outputs": [
    {
     "data": {
      "text/plain": [
       "0.3"
      ]
     },
     "execution_count": 76,
     "metadata": {},
     "output_type": "execute_result"
    }
   ],
   "source": [
    "accuracy_mlp = metrics.accuracy_score(Test['LABEL'],predictions)\n",
    "accuracy_mlp"
   ]
  },
  {
   "cell_type": "code",
   "execution_count": 77,
   "metadata": {},
   "outputs": [
    {
     "data": {
      "text/plain": [
       "0.3"
      ]
     },
     "execution_count": 77,
     "metadata": {},
     "output_type": "execute_result"
    }
   ],
   "source": [
    "from sklearn.metrics import recall_score\n",
    "recall_mlp = metrics.recall_score(Test['LABEL'],predictions,average='weighted')\n",
    "recall_mlp"
   ]
  },
  {
   "cell_type": "code",
   "execution_count": 43,
   "metadata": {},
   "outputs": [],
   "source": [
    "# the model is bias, maybe need a mlp with several hiiden layers\n",
    "# but one of the fact is that I could only parse 300 pages of textual data in that webpage"
   ]
  },
  {
   "cell_type": "markdown",
   "metadata": {},
   "source": [
    "### complex MLP"
   ]
  },
  {
   "cell_type": "code",
   "execution_count": 44,
   "metadata": {},
   "outputs": [],
   "source": [
    "\n",
    "import torch #pytorch\n",
    "import torch.nn as nn #for our model class\n",
    "import torch.nn.functional as F\n",
    "from nltk.corpus import stopwords #removing stop words\n",
    "from collections import Counter #counting the unique numbers\n",
    "import string \n",
    "import re #regex\n",
    "import seaborn as sns #plotting\n",
    "import matplotlib.pyplot as plt #plotting\n",
    "from torch.utils.data import TensorDataset, DataLoader #data prep\n",
    "from sklearn.model_selection import train_test_split #splitting the dataset for training and testing "
   ]
  },
  {
   "cell_type": "code",
   "execution_count": 45,
   "metadata": {},
   "outputs": [],
   "source": [
    "from torchtext.data.utils import get_tokenizer\n",
    "from torchtext.vocab import build_vocab_from_iterator\n",
    "\n",
    "tokenizer = get_tokenizer('basic_english')"
   ]
  },
  {
   "cell_type": "code",
   "execution_count": 46,
   "metadata": {},
   "outputs": [],
   "source": [
    "df_sentence = pd.Series(abstract_list).apply(preprocess)\n",
    "df_data = pd.DataFrame(df_sentence,columns=['DATA_COLUMN'])\n",
    "df_data[\"LABEL\"]=label"
   ]
  },
  {
   "cell_type": "code",
   "execution_count": 47,
   "metadata": {},
   "outputs": [],
   "source": [
    "vocab = build_vocab_from_iterator(df_data[\"DATA_COLUMN\"])"
   ]
  },
  {
   "cell_type": "code",
   "execution_count": 48,
   "metadata": {},
   "outputs": [],
   "source": [
    "encoding = []\n",
    "for i in range(300):\n",
    "    encoding.append(np.concatenate((np.array(vocab(df_data[\"DATA_COLUMN\"][i])).T,np.zeros(500-len(np.array(df_data[\"DATA_COLUMN\"][i]).T))),axis=0))"
   ]
  },
  {
   "cell_type": "code",
   "execution_count": 49,
   "metadata": {},
   "outputs": [],
   "source": [
    "x_train = encoding[:239]\n",
    "x_test = encoding[240:]"
   ]
  },
  {
   "cell_type": "code",
   "execution_count": 50,
   "metadata": {},
   "outputs": [
    {
     "data": {
      "text/plain": [
       "500"
      ]
     },
     "execution_count": 50,
     "metadata": {},
     "output_type": "execute_result"
    }
   ],
   "source": [
    "len(np.array(x_train[0]).T)"
   ]
  },
  {
   "cell_type": "code",
   "execution_count": 51,
   "metadata": {},
   "outputs": [
    {
     "name": "stderr",
     "output_type": "stream",
     "text": [
      "<ipython-input-51-5f49cde423a7>:1: UserWarning: Creating a tensor from a list of numpy.ndarrays is extremely slow. Please consider converting the list to a single numpy.ndarray with numpy.array() before converting to a tensor. (Triggered internally at  ..\\torch\\csrc\\utils\\tensor_new.cpp:201.)\n",
      "  x_train_torch=torch.Tensor(x_train).to(torch.int64)\n"
     ]
    }
   ],
   "source": [
    "x_train_torch=torch.Tensor(x_train).to(torch.int64)\n",
    "x_test_torch=torch.Tensor(x_test).to(torch.int64)"
   ]
  },
  {
   "cell_type": "code",
   "execution_count": 52,
   "metadata": {},
   "outputs": [],
   "source": [
    "train_data = TensorDataset(x_train_torch, torch.from_numpy(df_data['LABEL'][:239].values))\n",
    "valid_data = TensorDataset(x_test_torch, torch.from_numpy(df_data['LABEL'][240:].values))"
   ]
  },
  {
   "cell_type": "code",
   "execution_count": 53,
   "metadata": {},
   "outputs": [],
   "source": [
    "batch_size = 30"
   ]
  },
  {
   "cell_type": "code",
   "execution_count": 54,
   "metadata": {},
   "outputs": [],
   "source": [
    "train_loader = DataLoader(train_data, shuffle=True, batch_size=batch_size,drop_last=True)\n",
    "valid_loader = DataLoader(valid_data, shuffle=True, batch_size=batch_size,drop_last=True)"
   ]
  },
  {
   "cell_type": "code",
   "execution_count": 55,
   "metadata": {},
   "outputs": [
    {
     "data": {
      "text/plain": [
       "<torch.utils.data.dataloader.DataLoader at 0x1e0aec5a6a0>"
      ]
     },
     "execution_count": 55,
     "metadata": {},
     "output_type": "execute_result"
    }
   ],
   "source": [
    "train_loader"
   ]
  },
  {
   "cell_type": "code",
   "execution_count": 56,
   "metadata": {},
   "outputs": [],
   "source": [
    "class SentimentRNN(nn.Module):\n",
    "    def __init__(self,no_layers,vocab_size,hidden_dim,embedding_dim,drop_prob=0.5): \n",
    "        super(SentimentRNN,self).__init__()\n",
    " \n",
    "        self.output_dim = output_dim #output dimensions\n",
    "        self.hidden_dim = hidden_dim #hidden dimensions\n",
    "  \n",
    "        self.no_layers = no_layers #number of layers\n",
    "        self.vocab_size = vocab_size #vocabulary size\n",
    "    \n",
    "        # embedding \n",
    "        self.embedding = nn.Embedding(vocab_size, embedding_dim) #embedding of vocabulary size and embedding dimensions        \n",
    "        #lstm\n",
    "        self.lstm = nn.LSTM(input_size=embedding_dim,hidden_size=self.hidden_dim,\n",
    "                           num_layers=no_layers, batch_first=True)\n",
    "        \n",
    "        # dropout layer\n",
    "        self.dropout = nn.Dropout(0.4)\n",
    "    \n",
    "        # linear and sigmoid layer\n",
    "        self.fc0 = nn.Linear(self.hidden_dim, 512) #first drop out\n",
    "        self.fc1 = nn.Linear(512, 256) #1st fc layer\n",
    "        self.dropout1 = nn.Dropout(0.2) #2nd drop out\n",
    "        self.fc = nn.Linear(256, output_dim) #2nd fully connected layer\n",
    "        self.sig = nn.Sigmoid() #for last layer\n",
    "        \n",
    "    def forward(self,x,hidden):\n",
    "        batch_size = x.size(0)\n",
    "        # embeddings and lstm_out\n",
    "        embeds = self.embedding(x)  # shape: B x S x Feature   since batch = True\n",
    "        #print(embeds.shape)  #[50, 500, 1000]\n",
    "        lstm_out, hidden = self.lstm(embeds, hidden)\n",
    "        \n",
    "        lstm_out = lstm_out.contiguous().view(-1, self.hidden_dim) \n",
    "        \n",
    "        # dropout and fully connected layer\n",
    "        out = self.dropout(lstm_out)\n",
    "        out = self.fc0(out)\n",
    "        out = self.dropout1(out)\n",
    "        out = self.fc1(out)\n",
    "        out = self.fc(out)\n",
    "        \n",
    "        # sigmoid function\n",
    "        sig_out = self.sig(out)\n",
    "        \n",
    "        # reshape to be batch_size first\n",
    "        sig_out = sig_out.view(batch_size, -1)\n",
    "\n",
    "        sig_out = sig_out[:, -1] # get last batch of labels\n",
    "        \n",
    "        # return last sigmoid output and hidden state\n",
    "        return sig_out, hidden\n",
    "        \n",
    "        \n",
    "        \n",
    "    def init_hidden(self, batch_size):\n",
    "        ''' Initializes hidden state '''\n",
    "        # Create two new tensors with sizes n_layers x batch_size x hidden_dim,\n",
    "        # initialized to zero, for hidden state and cell state of LSTM\n",
    "        h0 = torch.zeros((self.no_layers,batch_size,self.hidden_dim)).to(device)\n",
    "        c0 = torch.zeros((self.no_layers,batch_size,self.hidden_dim)).to(device)\n",
    "        hidden = (h0,c0)\n",
    "        return hidden"
   ]
  },
  {
   "cell_type": "code",
   "execution_count": 57,
   "metadata": {},
   "outputs": [
    {
     "data": {
      "text/plain": [
       "SentimentRNN(\n",
       "  (embedding): Embedding(3295, 64)\n",
       "  (lstm): LSTM(64, 256, num_layers=4, batch_first=True)\n",
       "  (dropout): Dropout(p=0.4, inplace=False)\n",
       "  (fc0): Linear(in_features=256, out_features=512, bias=True)\n",
       "  (fc1): Linear(in_features=512, out_features=256, bias=True)\n",
       "  (dropout1): Dropout(p=0.2, inplace=False)\n",
       "  (fc): Linear(in_features=256, out_features=1, bias=True)\n",
       "  (sig): Sigmoid()\n",
       ")"
      ]
     },
     "execution_count": 57,
     "metadata": {},
     "output_type": "execute_result"
    }
   ],
   "source": [
    "device = torch.device(\"cpu\")\n",
    "no_layers = 4 #4 hidden LSTM stacked layers\n",
    "vocab_size = len(vocab) + 1 #extra 1 for padding\n",
    "embedding_dim = 64 # embedding dimensions\n",
    "output_dim = 1 #single output 1 or 0\n",
    "hidden_dim = 256 # hidden dimensions\n",
    "model = SentimentRNN(no_layers,vocab_size,hidden_dim,embedding_dim,drop_prob=0.5)\n",
    "#moving to gpu if available\n",
    "model.to(device) "
   ]
  },
  {
   "cell_type": "code",
   "execution_count": 58,
   "metadata": {},
   "outputs": [
    {
     "data": {
      "text/plain": [
       "3294"
      ]
     },
     "execution_count": 58,
     "metadata": {},
     "output_type": "execute_result"
    }
   ],
   "source": [
    "len(vocab)"
   ]
  },
  {
   "cell_type": "code",
   "execution_count": 59,
   "metadata": {},
   "outputs": [],
   "source": [
    "def acc(pred,label):\n",
    "    pred = torch.round(pred.squeeze()) #remove extra dimensions\n",
    "    return torch.sum(pred == label.squeeze()).item()  #correct predictions vs label "
   ]
  },
  {
   "cell_type": "code",
   "execution_count": 60,
   "metadata": {},
   "outputs": [],
   "source": [
    "clip = 5 #gradient clipping for exploding gradients\n",
    "epochs = 5 #number of epochs\n",
    "valid_loss_min = np.Inf #setting loss for minimum i.e infinity epochs\n",
    "# train for some number of epochs\n",
    "epoch_tr_loss,epoch_vl_loss = [],[]  #lists for appending per epochs statistics to visualize\n",
    "epoch_tr_acc,epoch_vl_acc = [],[]\n",
    "\n",
    "lr=0.001 #learning rate\n",
    "criterion = nn.PoissonNLLLoss() \n",
    "optimizer = torch.optim.Adam(model.parameters(), lr=lr)"
   ]
  },
  {
   "cell_type": "code",
   "execution_count": 61,
   "metadata": {},
   "outputs": [
    {
     "name": "stdout",
     "output_type": "stream",
     "text": [
      "Epoch 1\n",
      "train_loss : 1.0549052953720093 val_loss : 1.0001658499240875\n",
      "train_accuracy : 26.359832635983267 val_accuracy : 41.66666666666667\n",
      "==================================================\n",
      "Epoch 2\n",
      "train_loss : 1.0000138623373849 val_loss : 1.0000007152557373\n",
      "train_accuracy : 27.615062761506277 val_accuracy : 41.66666666666667\n",
      "==================================================\n",
      "Epoch 3\n",
      "train_loss : 0.9999997615814209 val_loss : 1.0\n",
      "train_accuracy : 28.451882845188287 val_accuracy : 41.66666666666667\n",
      "==================================================\n",
      "Epoch 4\n",
      "train_loss : 1.000000034059797 val_loss : 1.0\n",
      "train_accuracy : 27.615062761506277 val_accuracy : 41.66666666666667\n",
      "==================================================\n",
      "Epoch 5\n",
      "train_loss : 1.0000000170298986 val_loss : 1.0\n",
      "train_accuracy : 25.94142259414226 val_accuracy : 41.66666666666667\n",
      "==================================================\n",
      "Wall time: 10min 54s\n"
     ]
    }
   ],
   "source": [
    "%%time\n",
    "for epoch in range(epochs):\n",
    "    train_losses = []\n",
    "    train_acc = 0.0\n",
    "    model.train()\n",
    "    # initialize hidden state \n",
    "    h = model.init_hidden(batch_size)\n",
    "    for inputs, labels in train_loader: #training data\n",
    "        \n",
    "        inputs, labels = inputs.to(device), labels.to(device)   \n",
    "        # Creating new variables for the hidden state, otherwise\n",
    "        # we'd backprop through the entire training history\n",
    "        h = tuple([each.data for each in h]) \n",
    "        \n",
    "        model.zero_grad() #zero gradients before starting the training\n",
    "        output,h = model(inputs,h) #forward pass\n",
    "        \n",
    "        # calculate the loss and perform backprop\n",
    "        loss = criterion(output.squeeze(), labels.float()) #criterion loss\n",
    "        loss.backward() # computes loss\n",
    "        train_losses.append(loss.item()) #appending the loss\n",
    "        # calculating accuracy\n",
    "        accuracy = acc(output,labels) \n",
    "        train_acc += accuracy \n",
    "\n",
    "        #`clip_grad_norm` helps prevent the exploding gradient problem in RNNs / LSTMs.\n",
    "        nn.utils.clip_grad_norm_(model.parameters(), clip)\n",
    "        optimizer.step() #improving the loss via optimizer using back prop (ADAM optimizer)\n",
    " \n",
    "    \n",
    "        \n",
    "    val_h = model.init_hidden(batch_size) #initialize the hidden state\n",
    "    val_losses = []\n",
    "    val_acc = 0.0\n",
    "    model.eval()\n",
    "    for inputs, labels in valid_loader: #validation data\n",
    "            val_h = tuple([each.data for each in val_h]) #separate variable for hidden state\n",
    "\n",
    "            inputs, labels = inputs.to(device), labels.to(device) #checking if gpu or not\n",
    "\n",
    "            output, val_h = model(inputs, val_h) #forward pass\n",
    "            val_loss = criterion(output.squeeze(), labels.float()) # loss\n",
    "\n",
    "            val_losses.append(val_loss.item()) #appending loss\n",
    "            \n",
    "            accuracy = acc(output,labels)\n",
    "            val_acc += accuracy\n",
    "            \n",
    "    epoch_train_loss = np.mean(train_losses)  #mean of the loss for calculating epoch loss\n",
    "    epoch_val_loss = np.mean(val_losses) #same for validation loss\n",
    "    epoch_train_acc = train_acc/len(train_loader.dataset) #acc for epoch\n",
    "    epoch_val_acc = val_acc/len(valid_loader.dataset) #vali acc for epoch\n",
    "    epoch_tr_loss.append(epoch_train_loss)\n",
    "    epoch_vl_loss.append(epoch_val_loss)\n",
    "    epoch_tr_acc.append(epoch_train_acc)\n",
    "    epoch_vl_acc.append(epoch_val_acc)\n",
    "    print(f'Epoch {epoch+1}') \n",
    "    print(f'train_loss : {epoch_train_loss} val_loss : {epoch_val_loss}')\n",
    "    print(f'train_accuracy : {epoch_train_acc*100} val_accuracy : {epoch_val_acc*100}')\n",
    "    print(25*'==') #for epoch ending symbol"
   ]
  },
  {
   "cell_type": "code",
   "execution_count": null,
   "metadata": {},
   "outputs": [],
   "source": [
    "# same as simple model, the accuracy is low. MAYBE my tokenization is problematic.\n",
    "#Ref: https://cnvrg.io/sentiment-analysis-python/?gclid=Cj0KCQiA8vSOBhCkARIsAGdp6RSlGJkCvA015o9tOHuDE3vFI9vsFL7n0rL9PJDi5y1oeeGgLUN2kPYaAma_EALw_wcB"
   ]
  },
  {
   "cell_type": "markdown",
   "metadata": {},
   "source": [
    "### BERT"
   ]
  },
  {
   "cell_type": "code",
   "execution_count": null,
   "metadata": {},
   "outputs": [],
   "source": [
    "# ref:https://towardsdatascience.com/sentiment-analysis-in-10-minutes-with-bert-and-hugging-face-294e8a04b671"
   ]
  },
  {
   "cell_type": "code",
   "execution_count": 62,
   "metadata": {},
   "outputs": [],
   "source": [
    "import tensorflow as tf\n",
    "df_data = pd.DataFrame(abstract_list,columns=['DATA_COLUMN'])\n",
    "df_data['LABEL']=label"
   ]
  },
  {
   "cell_type": "code",
   "execution_count": 63,
   "metadata": {},
   "outputs": [
    {
     "name": "stderr",
     "output_type": "stream",
     "text": [
      "All model checkpoint layers were used when initializing TFBertForSequenceClassification.\n",
      "\n",
      "Some layers of TFBertForSequenceClassification were not initialized from the model checkpoint at bert-base-uncased and are newly initialized: ['classifier']\n",
      "You should probably TRAIN this model on a down-stream task to be able to use it for predictions and inference.\n"
     ]
    }
   ],
   "source": [
    "# load a pretrained BRRT model\n",
    "from transformers import BertTokenizer, TFBertForSequenceClassification\n",
    "from transformers import InputExample, InputFeatures\n",
    "\n",
    "model = TFBertForSequenceClassification.from_pretrained(\"bert-base-uncased\",num_labels=3)\n",
    "tokenizer = BertTokenizer.from_pretrained(\"bert-base-uncased\")"
   ]
  },
  {
   "cell_type": "code",
   "execution_count": 64,
   "metadata": {},
   "outputs": [],
   "source": [
    "#using simple train test split, [:239] for fine-tuning and [240:]\n",
    "train = df_data[:239]\n",
    "test  = df_data[240:]"
   ]
  },
  {
   "cell_type": "code",
   "execution_count": 65,
   "metadata": {},
   "outputs": [],
   "source": [
    "def convert_data_to_examples(train, test, DATA_COLUMN, LABEL_COLUMN): \n",
    "    train_InputExamples = train.apply(lambda x: InputExample(guid=None, # Globally unique ID for bookkeeping, unused in this case\n",
    "                                                          text_a = x[DATA_COLUMN], \n",
    "                                                          text_b = None,\n",
    "                                                          label = x[LABEL_COLUMN]), axis = 1)\n",
    "\n",
    "    validation_InputExamples = test.apply(lambda x: InputExample(guid=None, # Globally unique ID for bookkeeping, unused in this case\n",
    "                                                          text_a = x[DATA_COLUMN], \n",
    "                                                          text_b = None,\n",
    "                                                          label = x[LABEL_COLUMN]), axis = 1)\n",
    "  \n",
    "    return train_InputExamples, validation_InputExamples\n",
    "\n",
    "  \n",
    "def convert_examples_to_tf_dataset(examples, tokenizer, max_length=128):\n",
    "    features = [] # -> will hold InputFeatures to be converted later\n",
    "\n",
    "    for e in examples:\n",
    "        # Documentation is really strong for this method, so please take a look at it\n",
    "        input_dict = tokenizer.encode_plus(\n",
    "            e.text_a,\n",
    "            add_special_tokens=True,\n",
    "            max_length=max_length, # truncates if len(s) > max_length\n",
    "            return_token_type_ids=True,\n",
    "            return_attention_mask=True,\n",
    "            pad_to_max_length=True, # pads to the right by default # CHECK THIS for pad_to_max_length\n",
    "            truncation=True\n",
    "        )\n",
    "\n",
    "        input_ids, token_type_ids, attention_mask = (input_dict[\"input_ids\"],\n",
    "            input_dict[\"token_type_ids\"], input_dict['attention_mask'])\n",
    "\n",
    "        features.append(\n",
    "            InputFeatures(\n",
    "                input_ids=input_ids, attention_mask=attention_mask, token_type_ids=token_type_ids, label=e.label\n",
    "            )\n",
    "        )\n",
    "\n",
    "    def gen():\n",
    "        for f in features:\n",
    "            yield (\n",
    "                {\n",
    "                    \"input_ids\": f.input_ids,\n",
    "                    \"attention_mask\": f.attention_mask,\n",
    "                    \"token_type_ids\": f.token_type_ids,\n",
    "                },\n",
    "                f.label,\n",
    "            )\n",
    "\n",
    "    return tf.data.Dataset.from_generator(\n",
    "        gen,\n",
    "        ({\"input_ids\": tf.int32, \"attention_mask\": tf.int32, \"token_type_ids\": tf.int32}, tf.int64),\n",
    "        (\n",
    "            {\n",
    "                \"input_ids\": tf.TensorShape([None]),\n",
    "                \"attention_mask\": tf.TensorShape([None]),\n",
    "                \"token_type_ids\": tf.TensorShape([None]),\n",
    "            },\n",
    "            tf.TensorShape([]),\n",
    "        ),\n",
    "    )\n",
    "DATA_COLUMN = 'DATA_COLUMN'\n",
    "LABEL_COLUMN = 'LABEL'"
   ]
  },
  {
   "cell_type": "code",
   "execution_count": 66,
   "metadata": {},
   "outputs": [
    {
     "name": "stderr",
     "output_type": "stream",
     "text": [
      "C:\\Users\\Kevin Wong 0413\\anaconda3\\lib\\site-packages\\transformers\\tokenization_utils_base.py:2226: FutureWarning: The `pad_to_max_length` argument is deprecated and will be removed in a future version, use `padding=True` or `padding='longest'` to pad to the longest sequence in the batch, or use `padding='max_length'` to pad to a max length. In this case, you can give a specific length with `max_length` (e.g. `max_length=45`) or leave max_length to None to pad to the maximal input size of the model (e.g. 512 for Bert).\n",
      "  warnings.warn(\n"
     ]
    }
   ],
   "source": [
    "train_InputExamples, validation_InputExamples = convert_data_to_examples(train, test, DATA_COLUMN, LABEL_COLUMN)\n",
    "\n",
    "train_data = convert_examples_to_tf_dataset(list(train_InputExamples), tokenizer)\n",
    "train_data = train_data.shuffle(100).batch(32).repeat(2)\n",
    "\n",
    "validation_data = convert_examples_to_tf_dataset(list(validation_InputExamples), tokenizer)\n",
    "validation_data = validation_data.batch(32)"
   ]
  },
  {
   "cell_type": "code",
   "execution_count": 83,
   "metadata": {},
   "outputs": [
    {
     "data": {
      "text/plain": [
       "0      InputExample(guid=None, text_a=\"There was HKD1...\n",
       "1      InputExample(guid=None, text_a='PICC P&C (0232...\n",
       "2      InputExample(guid=None, text_a='China\\'s State...\n",
       "3      InputExample(guid=None, text_a='PETROCHINA (00...\n",
       "4      InputExample(guid=None, text_a=\"The State Coun...\n",
       "                             ...                        \n",
       "234    InputExample(guid=None, text_a='C FIN INT INV ...\n",
       "235    InputExample(guid=None, text_a=\"Morgan Stanley...\n",
       "236    InputExample(guid=None, text_a='', text_b=None...\n",
       "237    InputExample(guid=None, text_a=\"Morgan Stanley...\n",
       "238    InputExample(guid=None, text_a='', text_b=None...\n",
       "Length: 239, dtype: object"
      ]
     },
     "execution_count": 83,
     "metadata": {},
     "output_type": "execute_result"
    }
   ],
   "source": [
    "train_InputExamples"
   ]
  },
  {
   "cell_type": "code",
   "execution_count": 67,
   "metadata": {},
   "outputs": [
    {
     "data": {
      "text/plain": [
       "<RepeatDataset shapes: ({input_ids: (None, None), attention_mask: (None, None), token_type_ids: (None, None)}, (None,)), types: ({input_ids: tf.int32, attention_mask: tf.int32, token_type_ids: tf.int32}, tf.int64)>"
      ]
     },
     "execution_count": 67,
     "metadata": {},
     "output_type": "execute_result"
    }
   ],
   "source": [
    "train_data"
   ]
  },
  {
   "cell_type": "code",
   "execution_count": 68,
   "metadata": {},
   "outputs": [
    {
     "name": "stdout",
     "output_type": "stream",
     "text": [
      "Epoch 1/10\n",
      "16/16 [==============================] - 221s 12s/step - loss: 1.0760 - accuracy: 0.4163 - val_loss: 1.0165 - val_accuracy: 0.5333\n",
      "Epoch 2/10\n",
      "16/16 [==============================] - 192s 12s/step - loss: 0.9601 - accuracy: 0.5293 - val_loss: 0.9753 - val_accuracy: 0.5833\n",
      "Epoch 3/10\n",
      "16/16 [==============================] - 192s 12s/step - loss: 0.8431 - accuracy: 0.6485 - val_loss: 0.9501 - val_accuracy: 0.5833\n",
      "Epoch 4/10\n",
      "16/16 [==============================] - 188s 12s/step - loss: 0.7331 - accuracy: 0.7071 - val_loss: 1.0638 - val_accuracy: 0.4333\n",
      "Epoch 5/10\n",
      "16/16 [==============================] - 187s 12s/step - loss: 0.5757 - accuracy: 0.8013 - val_loss: 1.0196 - val_accuracy: 0.5167\n",
      "Epoch 6/10\n",
      "16/16 [==============================] - 185s 12s/step - loss: 0.4525 - accuracy: 0.8473 - val_loss: 1.1922 - val_accuracy: 0.5000\n",
      "Epoch 7/10\n",
      "16/16 [==============================] - 184s 12s/step - loss: 0.3858 - accuracy: 0.8619 - val_loss: 1.4864 - val_accuracy: 0.4333\n",
      "Epoch 8/10\n",
      "16/16 [==============================] - 186s 12s/step - loss: 0.3355 - accuracy: 0.8661 - val_loss: 1.6949 - val_accuracy: 0.4167\n",
      "Epoch 9/10\n",
      "16/16 [==============================] - 190s 12s/step - loss: 0.3188 - accuracy: 0.8661 - val_loss: 1.3461 - val_accuracy: 0.4667\n",
      "Epoch 10/10\n",
      "16/16 [==============================] - 186s 12s/step - loss: 0.3064 - accuracy: 0.8661 - val_loss: 1.5356 - val_accuracy: 0.4333\n",
      "Wall time: 31min 51s\n"
     ]
    },
    {
     "data": {
      "text/plain": [
       "<keras.callbacks.History at 0x1e1258e5a60>"
      ]
     },
     "execution_count": 68,
     "metadata": {},
     "output_type": "execute_result"
    }
   ],
   "source": [
    "%%time\n",
    "model.compile(optimizer=tf.keras.optimizers.Adam(learning_rate=3e-5, epsilon=1e-08, clipnorm=1.0), \n",
    "              loss=tf.keras.losses.SparseCategoricalCrossentropy(from_logits=True), \n",
    "              metrics=[tf.keras.metrics.SparseCategoricalAccuracy('accuracy')])\n",
    "\n",
    "model.fit(train_data, epochs=10, validation_data=validation_data)"
   ]
  },
  {
   "cell_type": "code",
   "execution_count": 69,
   "metadata": {},
   "outputs": [],
   "source": [
    "prediction=model.predict(validation_data)"
   ]
  },
  {
   "cell_type": "code",
   "execution_count": 70,
   "metadata": {},
   "outputs": [],
   "source": [
    "pred_label_BERT=np.argmax((prediction[0]),axis=1)"
   ]
  },
  {
   "cell_type": "code",
   "execution_count": 71,
   "metadata": {},
   "outputs": [
    {
     "data": {
      "text/plain": [
       "(array([1, 1, 0, 1, 1, 2, 0, 0, 0, 2, 1, 1, 1, 2, 1, 0, 0, 0, 1, 1, 0, 1,\n",
       "        0, 0, 1, 2, 1, 2, 1, 1, 0, 1, 2, 0, 0, 1, 1, 0, 1, 1, 1, 0, 0, 2,\n",
       "        1, 1, 2, 1, 2, 0, 1, 0, 0, 0, 1, 0, 1, 2, 2, 2], dtype=int64),\n",
       " array([1, 1, 0, 2, 0, 2, 1, 0, 2, 2, 2, 0, 0, 1, 2, 0, 0, 2, 1, 2, 2, 1,\n",
       "        0, 0, 1, 1, 0, 0, 2, 2, 1, 0, 1, 1, 2, 0, 0, 0, 0, 2, 0, 0, 1, 1,\n",
       "        1, 0, 2, 0, 1, 0, 1, 1, 0, 0, 0, 0, 1, 2, 2, 2], dtype=int64))"
      ]
     },
     "execution_count": 71,
     "metadata": {},
     "output_type": "execute_result"
    }
   ],
   "source": [
    "pred_label_BERT,test.LABEL.values"
   ]
  },
  {
   "cell_type": "code",
   "execution_count": 72,
   "metadata": {},
   "outputs": [],
   "source": [
    "recall_bert = metrics.recall_score(pred_label_BERT,test.LABEL.values,average='weighted')\n",
    "accuracy_bert = metrics.accuracy_score(pred_label_BERT,test.LABEL.values)"
   ]
  },
  {
   "cell_type": "code",
   "execution_count": 78,
   "metadata": {},
   "outputs": [
    {
     "data": {
      "text/plain": [
       "(0.43333333333333335, 0.43333333333333335, 0.3, 0.3)"
      ]
     },
     "execution_count": 78,
     "metadata": {},
     "output_type": "execute_result"
    }
   ],
   "source": [
    "recall_bert,accuracy_bert,recall_mlp,accuracy_mlp"
   ]
  },
  {
   "cell_type": "code",
   "execution_count": 79,
   "metadata": {},
   "outputs": [],
   "source": [
    "# the computation score is shown in the training process, the simple mlp need only 2sec and the BERT with pretrained needs 30min"
   ]
  },
  {
   "cell_type": "markdown",
   "metadata": {},
   "source": [
    "## prediction"
   ]
  },
  {
   "cell_type": "markdown",
   "metadata": {},
   "source": [
    "### using BERT model for prediction"
   ]
  },
  {
   "cell_type": "code",
   "execution_count": 84,
   "metadata": {},
   "outputs": [],
   "source": [
    "train_data = convert_examples_to_tf_dataset(list(train_InputExamples), tokenizer)"
   ]
  },
  {
   "cell_type": "code",
   "execution_count": 87,
   "metadata": {},
   "outputs": [
    {
     "data": {
      "text/plain": [
       "<BatchDataset shapes: ({input_ids: (None, None), attention_mask: (None, None), token_type_ids: (None, None)}, (None,)), types: ({input_ids: tf.int32, attention_mask: tf.int32, token_type_ids: tf.int32}, tf.int64)>"
      ]
     },
     "execution_count": 87,
     "metadata": {},
     "output_type": "execute_result"
    }
   ],
   "source": [
    "train_data.batch(32)"
   ]
  },
  {
   "cell_type": "code",
   "execution_count": 88,
   "metadata": {},
   "outputs": [],
   "source": [
    "prediction=model.predict(validation_data)"
   ]
  },
  {
   "cell_type": "code",
   "execution_count": 89,
   "metadata": {
    "collapsed": true,
    "jupyter": {
     "outputs_hidden": true
    }
   },
   "outputs": [
    {
     "data": {
      "text/plain": [
       "array([[-1.2475564 ,  2.276481  , -0.91055435],\n",
       "       [ 2.7808192 , -1.3111293 , -1.9818695 ],\n",
       "       [-2.2240553 , -1.5112414 ,  3.4741561 ],\n",
       "       [-2.4041224 , -1.2225422 ,  3.3603652 ],\n",
       "       [-2.2838705 , -1.4149758 ,  3.4806495 ],\n",
       "       [-1.235681  ,  3.2412822 , -1.7126554 ],\n",
       "       [ 2.6396592 , -1.0868835 , -1.866263  ],\n",
       "       [ 3.0005257 , -1.5027995 , -1.9856653 ],\n",
       "       [ 2.5643694 , -0.6452153 , -2.1490922 ],\n",
       "       [-1.4287045 ,  3.117717  , -1.3701853 ],\n",
       "       [-2.1192145 , -1.6555171 ,  3.430587  ],\n",
       "       [-1.4802245 ,  3.58449   , -1.5860025 ],\n",
       "       [-2.4739277 , -0.97651047,  3.3578947 ],\n",
       "       [-1.8280399 ,  2.9877088 , -0.6645859 ],\n",
       "       [-2.1785767 , -1.5869434 ,  3.4273417 ],\n",
       "       [-2.1474614 , -1.5642618 ,  3.4770184 ],\n",
       "       [-1.5648003 ,  3.494128  , -1.243159  ],\n",
       "       [-2.2023227 , -1.4823895 ,  3.5279899 ],\n",
       "       [-2.2931163 , -1.2879202 ,  3.3653297 ],\n",
       "       [-2.1419737 , -1.5025032 ,  3.4719937 ],\n",
       "       [ 0.4417543 , -0.67187196, -0.39674902],\n",
       "       [ 0.2640522 , -0.61165774, -0.3219473 ],\n",
       "       [ 0.2640522 , -0.61165774, -0.3219473 ],\n",
       "       [ 0.2640522 , -0.61165774, -0.3219473 ],\n",
       "       [ 0.4417543 , -0.67187196, -0.39674902],\n",
       "       [ 0.2640522 , -0.61165774, -0.3219473 ],\n",
       "       [-1.6551626 ,  3.2171135 , -0.96902597],\n",
       "       [-2.2856078 , -1.3803413 ,  3.4914267 ],\n",
       "       [ 2.9705613 , -1.5814976 , -1.9491259 ],\n",
       "       [ 2.3438938 , -1.6220571 , -1.5576861 ],\n",
       "       [-2.3959682 , -1.2416834 ,  3.342208  ],\n",
       "       [-1.3661797 ,  3.0457404 , -0.83864737],\n",
       "       [-2.5968142 , -0.68489426,  3.317464  ],\n",
       "       [-2.3620267 , -1.2122488 ,  3.3858364 ],\n",
       "       [-1.7665584 ,  3.2415006 , -0.76472664],\n",
       "       [-2.39468   , -1.140185  ,  3.3828979 ],\n",
       "       [-1.7360219 ,  3.5533433 , -1.3533043 ],\n",
       "       [-1.6104798 ,  3.2596433 , -1.3386632 ],\n",
       "       [ 2.5102205 , -1.4263251 , -1.7891792 ],\n",
       "       [-1.9633398 , -1.7207949 ,  3.441943  ],\n",
       "       [-2.0989964 , -1.5033242 ,  3.4487612 ],\n",
       "       [-1.6200603 ,  3.1843462 , -1.132462  ],\n",
       "       [-1.6898539 ,  3.491186  , -1.3433383 ],\n",
       "       [-2.4988327 , -0.34422553,  3.1413658 ],\n",
       "       [ 2.6952007 , -1.2122775 , -1.944548  ],\n",
       "       [ 0.2640522 , -0.61165774, -0.3219473 ],\n",
       "       [ 0.4417543 , -0.67187196, -0.39674902],\n",
       "       [-1.6898539 ,  3.491186  , -1.3433383 ],\n",
       "       [-1.7068584 ,  3.3963726 , -1.1664251 ],\n",
       "       [-1.6845777 ,  3.4786415 , -1.274567  ],\n",
       "       [ 0.2640522 , -0.61165774, -0.3219473 ],\n",
       "       [-2.0988693 , -1.5324054 ,  3.4751909 ],\n",
       "       [-2.4653184 , -1.1533222 ,  3.4070685 ],\n",
       "       [-2.4661555 , -1.104213  ,  3.2680929 ],\n",
       "       [ 0.2640522 , -0.61165774, -0.3219473 ],\n",
       "       [ 0.2640522 , -0.61165774, -0.3219473 ],\n",
       "       [ 0.2640522 , -0.61165774, -0.3219473 ],\n",
       "       [ 0.2640522 , -0.61165774, -0.3219473 ],\n",
       "       [ 0.2640522 , -0.61165774, -0.3219473 ],\n",
       "       [ 2.5004995 , -1.0065376 , -1.7467753 ],\n",
       "       [-1.9687964 ,  3.4384918 , -0.8481265 ],\n",
       "       [ 0.2640522 , -0.61165774, -0.3219473 ],\n",
       "       [-2.0213153 , -1.6379787 ,  3.4399896 ],\n",
       "       [ 2.684261  , -1.3443964 , -1.9135964 ],\n",
       "       [ 0.2640522 , -0.61165774, -0.3219473 ],\n",
       "       [ 0.2640522 , -0.61165774, -0.3219473 ],\n",
       "       [ 2.5589762 , -0.8309981 , -1.9449221 ],\n",
       "       [ 0.2640522 , -0.61165774, -0.3219473 ],\n",
       "       [ 0.2640522 , -0.61165774, -0.3219473 ],\n",
       "       [-1.9419998 ,  1.639563  ,  0.35350817],\n",
       "       [-1.9419998 ,  1.639563  ,  0.35350817],\n",
       "       [-1.294496  ,  3.3054807 , -1.4425288 ],\n",
       "       [ 2.570462  , -1.2934517 , -1.6863381 ],\n",
       "       [-1.7582345 ,  3.5150268 , -1.1779078 ],\n",
       "       [-2.3978262 , -1.2462208 ,  3.3438354 ],\n",
       "       [-1.3958962 ,  3.494524  , -1.7356678 ],\n",
       "       [-1.7761894 ,  3.533801  , -0.98705995],\n",
       "       [-1.6901004 ,  3.321628  , -1.0531203 ],\n",
       "       [-2.3656518 , -1.3054307 ,  3.45667   ],\n",
       "       [-2.2486465 , -1.4097333 ,  3.4676545 ],\n",
       "       [-2.5524323 , -0.89035434,  3.2621078 ],\n",
       "       [-1.2511396 ,  3.5926702 , -1.7673649 ],\n",
       "       [-2.1255925 , -1.6124957 ,  3.4020925 ],\n",
       "       [-2.153276  , -1.584939  ,  3.4655015 ],\n",
       "       [-2.0999994 , -1.6880653 ,  3.5167    ],\n",
       "       [ 2.0292962 , -1.3864404 , -1.409386  ],\n",
       "       [-1.7865758 ,  3.2250779 , -0.8651905 ],\n",
       "       [-1.5731351 ,  3.6014645 , -1.4151932 ],\n",
       "       [-1.451772  ,  2.9686759 , -1.1405876 ],\n",
       "       [-2.087653  , -1.1953131 ,  3.1639223 ],\n",
       "       [ 2.6742349 , -1.4304233 , -1.8714714 ],\n",
       "       [-1.5481622 ,  3.3896177 , -1.4627341 ],\n",
       "       [-1.3345282 ,  2.7555609 , -1.3885247 ],\n",
       "       [ 0.94736207, -1.1049273 ,  0.26664954],\n",
       "       [-1.9852293 ,  0.89729553,  0.7174198 ],\n",
       "       [ 0.94736207, -1.1049275 ,  0.26664948],\n",
       "       [ 0.4417543 , -0.67187196, -0.39674902],\n",
       "       [-1.985229  ,  0.8972953 ,  0.71741986],\n",
       "       [ 2.997197  , -1.559367  , -2.0497117 ],\n",
       "       [-1.516581  ,  3.3327613 , -1.1474329 ],\n",
       "       [-1.5459294 ,  3.6116168 , -1.4501678 ],\n",
       "       [-2.244113  , -1.3791202 ,  3.4157157 ],\n",
       "       [-1.614641  ,  3.1886256 , -0.8458819 ],\n",
       "       [ 2.8069499 , -1.3102479 , -2.0721679 ],\n",
       "       [-1.4158294 ,  3.2240994 , -1.472804  ],\n",
       "       [-1.444477  ,  3.0229208 , -1.0823784 ],\n",
       "       [-1.4621537 ,  3.549549  , -1.5472997 ],\n",
       "       [-1.7448891 ,  3.4818034 , -1.1201066 ],\n",
       "       [ 0.4417543 , -0.67187196, -0.39674902],\n",
       "       [-1.4017557 ,  3.3904164 , -1.3163255 ],\n",
       "       [-2.4948685 , -1.0747331 ,  3.2897456 ],\n",
       "       [-1.7403244 ,  3.1483445 , -1.0992326 ],\n",
       "       [ 0.4417543 , -0.67187196, -0.39674902],\n",
       "       [ 2.7526329 , -1.1327083 , -1.9340302 ],\n",
       "       [-1.817519  ,  3.6406853 , -1.2127866 ],\n",
       "       [ 0.2640522 , -0.61165774, -0.3219473 ],\n",
       "       [ 0.2640522 , -0.61165774, -0.3219473 ],\n",
       "       [ 0.2640522 , -0.61165774, -0.3219473 ],\n",
       "       [ 0.2640522 , -0.61165774, -0.3219473 ],\n",
       "       [-2.277729  , -1.3945767 ,  3.4448717 ],\n",
       "       [-1.655523  ,  3.5175717 , -1.4340768 ],\n",
       "       [ 0.2640522 , -0.61165774, -0.3219473 ],\n",
       "       [ 0.2640522 , -0.61165774, -0.3219473 ],\n",
       "       [ 0.2640522 , -0.61165774, -0.3219473 ],\n",
       "       [ 0.2640522 , -0.61165774, -0.3219473 ],\n",
       "       [ 0.4417543 , -0.67187196, -0.39674902],\n",
       "       [ 0.26405215, -0.6116577 , -0.32194728],\n",
       "       [ 0.26405215, -0.6116577 , -0.32194728],\n",
       "       [ 0.2640522 , -0.61165774, -0.3219473 ],\n",
       "       [ 3.0293794 , -1.5233936 , -2.079848  ],\n",
       "       [ 2.6478183 , -1.1905038 , -1.9807912 ],\n",
       "       [-2.530605  , -0.9402048 ,  3.344664  ],\n",
       "       [-2.020432  , -1.6664983 ,  3.420804  ],\n",
       "       [ 2.6913705 , -0.9668166 , -2.038568  ],\n",
       "       [-1.7718382 , -1.7891979 ,  3.3197536 ],\n",
       "       [-2.2903059 , -1.1740439 ,  3.4131823 ],\n",
       "       [-1.170716  ,  2.909654  , -1.434415  ],\n",
       "       [-1.6441338 ,  3.3401237 , -1.2551535 ],\n",
       "       [-2.4295602 , -0.8568321 ,  3.2528982 ],\n",
       "       [-2.2478583 , -1.3043041 ,  3.1411579 ],\n",
       "       [ 2.752089  , -1.3550816 , -1.8969207 ],\n",
       "       [-1.7741305 ,  3.3323085 , -1.0906807 ],\n",
       "       [-2.4427736 , -0.7771026 ,  3.296258  ],\n",
       "       [-1.9687276 , -1.7695789 ,  3.4351509 ],\n",
       "       [-2.285128  , -1.2297709 ,  3.3642108 ],\n",
       "       [-2.5787394 ,  1.2045825 ,  1.8067166 ],\n",
       "       [ 0.2640522 , -0.61165774, -0.3219473 ],\n",
       "       [ 0.2640522 , -0.61165774, -0.3219473 ],\n",
       "       [ 2.5866718 , -1.1248887 , -1.8696421 ],\n",
       "       [-1.6706048 ,  3.594953  , -1.3345228 ],\n",
       "       [-0.85681075,  3.2048028 , -2.0652828 ],\n",
       "       [-1.6269209 ,  3.3566155 , -1.3571554 ],\n",
       "       [ 0.4417543 , -0.67187196, -0.39674902],\n",
       "       [ 0.2640522 , -0.61165774, -0.3219473 ],\n",
       "       [ 0.2640522 , -0.61165774, -0.3219473 ],\n",
       "       [ 0.2640522 , -0.61165774, -0.3219473 ],\n",
       "       [ 2.6625822 , -1.1961843 , -1.8712196 ],\n",
       "       [ 2.6407168 , -1.2551668 , -1.7695932 ],\n",
       "       [-2.1142023 , -1.5129738 ,  3.4264567 ],\n",
       "       [-1.5341811 ,  3.366876  , -1.2747895 ],\n",
       "       [-2.5787394 ,  1.2045825 ,  1.8067166 ],\n",
       "       [-1.2891316 ,  3.4810586 , -1.5865134 ],\n",
       "       [ 0.4417543 , -0.67187196, -0.39674902],\n",
       "       [-2.0849524 , -1.6356562 ,  3.3469987 ],\n",
       "       [ 2.7019317 , -0.97024155, -2.173632  ],\n",
       "       [ 0.4417543 , -0.67187196, -0.39674902],\n",
       "       [ 2.74811   , -1.1805774 , -2.0022805 ],\n",
       "       [-1.8674607 ,  2.7388036 , -0.44573748],\n",
       "       [ 2.4740086 , -0.90719604, -1.8355596 ],\n",
       "       [-1.6771537 ,  3.471225  , -1.3093797 ],\n",
       "       [ 2.643953  , -1.564862  , -1.7781852 ],\n",
       "       [-1.8126407 ,  3.3265543 , -0.9026697 ],\n",
       "       [-2.3625808 ,  2.7763019 ,  0.16806202],\n",
       "       [-1.8809386 ,  3.3506515 , -0.68820554],\n",
       "       [-2.116409  , -1.6274204 ,  3.4085653 ],\n",
       "       [ 1.9866109 , -1.3757756 , -1.3814579 ],\n",
       "       [-1.7883922 ,  3.069111  , -0.7878186 ],\n",
       "       [ 2.695089  , -1.3466225 , -1.9236856 ],\n",
       "       [ 2.6571467 , -1.4989889 , -1.8302085 ],\n",
       "       [-1.9956493 ,  2.2527537 ,  0.14127798],\n",
       "       [-2.0176382 ,  2.5441515 , -0.1204663 ],\n",
       "       [ 2.8073356 , -1.2942249 , -2.059345  ],\n",
       "       [-1.6490012 ,  3.6467555 , -1.5696281 ],\n",
       "       [-2.4189394 , -0.45478106,  2.7511451 ],\n",
       "       [ 2.7477665 , -1.1023147 , -1.937956  ],\n",
       "       [ 2.6165977 , -0.8031767 , -2.0500746 ],\n",
       "       [-1.4935169 ,  3.7130227 , -1.6103479 ],\n",
       "       [ 2.431146  , -1.2171406 , -1.8425852 ],\n",
       "       [ 3.0105083 , -1.5338132 , -2.0929487 ],\n",
       "       [ 2.6818874 , -1.5579779 , -1.8688257 ],\n",
       "       [-1.9818846 , -1.3929373 ,  3.2485507 ],\n",
       "       [ 2.6136317 , -1.0836793 , -1.8418247 ],\n",
       "       [-1.7946881 ,  3.3886368 , -0.869778  ],\n",
       "       [-2.4346478 , -0.9880216 ,  3.185963  ],\n",
       "       [-2.3200397 , -1.0726963 ,  3.2169049 ],\n",
       "       [-1.8430725 ,  3.4342363 , -0.9260964 ],\n",
       "       [-2.0205138 , -1.5387459 ,  3.3933003 ],\n",
       "       [-1.4632419 ,  3.642049  , -1.689877  ],\n",
       "       [ 0.7701994 , -1.0596048 ,  0.49338177],\n",
       "       [ 0.7701994 , -1.0596048 ,  0.49338177],\n",
       "       [ 0.2640522 , -0.61165774, -0.3219473 ],\n",
       "       [ 0.2640522 , -0.61165774, -0.3219473 ],\n",
       "       [-2.2863424 , -1.2601126 ,  3.2896287 ],\n",
       "       [-1.616274  ,  3.5199144 , -1.321157  ],\n",
       "       [-1.5476818 ,  3.369669  , -1.1470205 ],\n",
       "       [-2.4511588 , -1.0671914 ,  3.4213166 ],\n",
       "       [ 2.6823685 , -1.3687962 , -1.9175605 ],\n",
       "       [ 2.945623  , -1.6073459 , -1.9512259 ],\n",
       "       [-2.0814335 , -1.4381087 ,  3.4280243 ],\n",
       "       [-2.4271758 , -1.1145003 ,  3.2977588 ],\n",
       "       [-2.087436  , -1.5476798 ,  3.4265683 ],\n",
       "       [-1.5640075 ,  3.2186859 , -1.3788853 ],\n",
       "       [-2.3065932 , -1.1291078 ,  3.3397238 ],\n",
       "       [-1.5720234 ,  3.1861556 , -1.135079  ],\n",
       "       [ 1.2722526 ,  1.374417  , -2.7905152 ],\n",
       "       [-2.2223861 , -1.4417995 ,  3.3925855 ],\n",
       "       [-2.4086642 , -1.2877923 ,  3.4117143 ],\n",
       "       [ 0.2640522 , -0.61165774, -0.3219473 ],\n",
       "       [ 1.2722526 ,  1.374417  , -2.7905152 ],\n",
       "       [ 2.6196792 , -0.96972615, -1.8962206 ],\n",
       "       [ 0.2640522 , -0.61165774, -0.3219473 ],\n",
       "       [ 2.6196792 , -0.96972615, -1.8962206 ],\n",
       "       [-1.4585395 ,  3.2655659 , -1.1982229 ],\n",
       "       [-2.7018788 , -0.49240583,  3.2382088 ],\n",
       "       [-2.1622627 , -1.4585938 ,  3.3474627 ],\n",
       "       [ 0.2640522 , -0.61165774, -0.32194722],\n",
       "       [-2.44752   , -1.2352979 ,  3.4897037 ],\n",
       "       [ 2.6565177 , -1.5784183 , -1.8103254 ],\n",
       "       [-2.291246  , -1.1853104 ,  3.3811264 ],\n",
       "       [ 0.2640522 , -0.61165774, -0.32194722],\n",
       "       [-2.0805633 , -1.5072598 ,  3.345119  ],\n",
       "       [-1.290559  ,  3.5055096 , -1.5865587 ],\n",
       "       [-2.44752   , -1.2352979 ,  3.4897037 ],\n",
       "       [ 0.2640522 , -0.61165774, -0.32194722],\n",
       "       [ 2.7286952 , -1.1899655 , -2.073748  ],\n",
       "       [-1.5356003 ,  3.08615   , -1.1844448 ],\n",
       "       [ 0.4417543 , -0.67187196, -0.39674908],\n",
       "       [ 2.2583382 , -0.99143034, -1.3665911 ],\n",
       "       [ 0.4417543 , -0.67187196, -0.39674908]], dtype=float32)"
      ]
     },
     "execution_count": 89,
     "metadata": {},
     "output_type": "execute_result"
    }
   ],
   "source": [
    "prediction2=model.predict(train_data.batch(32))\n",
    "prediction2[0]"
   ]
  },
  {
   "cell_type": "code",
   "execution_count": 95,
   "metadata": {
    "collapsed": true,
    "jupyter": {
     "outputs_hidden": true
    }
   },
   "outputs": [
    {
     "data": {
      "text/plain": [
       "TFSequenceClassifierOutput(loss=None, logits=array([[-1.2475564 ,  2.276481  , -0.91055435],\n",
       "       [ 2.7808192 , -1.3111293 , -1.9818695 ],\n",
       "       [-2.2240553 , -1.5112414 ,  3.4741561 ],\n",
       "       [-2.4041224 , -1.2225422 ,  3.3603652 ],\n",
       "       [-2.2838705 , -1.4149758 ,  3.4806495 ],\n",
       "       [-1.235681  ,  3.2412822 , -1.7126554 ],\n",
       "       [ 2.6396592 , -1.0868835 , -1.866263  ],\n",
       "       [ 3.0005257 , -1.5027995 , -1.9856653 ],\n",
       "       [ 2.5643694 , -0.6452153 , -2.1490922 ],\n",
       "       [-1.4287045 ,  3.117717  , -1.3701853 ],\n",
       "       [-2.1192145 , -1.6555171 ,  3.430587  ],\n",
       "       [-1.4802245 ,  3.58449   , -1.5860025 ],\n",
       "       [-2.4739277 , -0.97651047,  3.3578947 ],\n",
       "       [-1.8280399 ,  2.9877088 , -0.6645859 ],\n",
       "       [-2.1785767 , -1.5869434 ,  3.4273417 ],\n",
       "       [-2.1474614 , -1.5642618 ,  3.4770184 ],\n",
       "       [-1.5648003 ,  3.494128  , -1.243159  ],\n",
       "       [-2.2023227 , -1.4823895 ,  3.5279899 ],\n",
       "       [-2.2931163 , -1.2879202 ,  3.3653297 ],\n",
       "       [-2.1419737 , -1.5025032 ,  3.4719937 ],\n",
       "       [ 0.4417543 , -0.67187196, -0.39674902],\n",
       "       [ 0.2640522 , -0.61165774, -0.3219473 ],\n",
       "       [ 0.2640522 , -0.61165774, -0.3219473 ],\n",
       "       [ 0.2640522 , -0.61165774, -0.3219473 ],\n",
       "       [ 0.4417543 , -0.67187196, -0.39674902],\n",
       "       [ 0.2640522 , -0.61165774, -0.3219473 ],\n",
       "       [-1.6551626 ,  3.2171135 , -0.96902597],\n",
       "       [-2.2856078 , -1.3803413 ,  3.4914267 ],\n",
       "       [ 2.9705613 , -1.5814976 , -1.9491259 ],\n",
       "       [ 2.3438938 , -1.6220571 , -1.5576861 ],\n",
       "       [-2.3959682 , -1.2416834 ,  3.342208  ],\n",
       "       [-1.3661797 ,  3.0457404 , -0.83864737],\n",
       "       [-2.5968142 , -0.68489426,  3.317464  ],\n",
       "       [-2.3620267 , -1.2122488 ,  3.3858364 ],\n",
       "       [-1.7665584 ,  3.2415006 , -0.76472664],\n",
       "       [-2.39468   , -1.140185  ,  3.3828979 ],\n",
       "       [-1.7360219 ,  3.5533433 , -1.3533043 ],\n",
       "       [-1.6104798 ,  3.2596433 , -1.3386632 ],\n",
       "       [ 2.5102205 , -1.4263251 , -1.7891792 ],\n",
       "       [-1.9633398 , -1.7207949 ,  3.441943  ],\n",
       "       [-2.0989964 , -1.5033242 ,  3.4487612 ],\n",
       "       [-1.6200603 ,  3.1843462 , -1.132462  ],\n",
       "       [-1.6898539 ,  3.491186  , -1.3433383 ],\n",
       "       [-2.4988327 , -0.34422553,  3.1413658 ],\n",
       "       [ 2.6952007 , -1.2122775 , -1.944548  ],\n",
       "       [ 0.2640522 , -0.61165774, -0.3219473 ],\n",
       "       [ 0.4417543 , -0.67187196, -0.39674902],\n",
       "       [-1.6898539 ,  3.491186  , -1.3433383 ],\n",
       "       [-1.7068584 ,  3.3963726 , -1.1664251 ],\n",
       "       [-1.6845777 ,  3.4786415 , -1.274567  ],\n",
       "       [ 0.2640522 , -0.61165774, -0.3219473 ],\n",
       "       [-2.0988693 , -1.5324054 ,  3.4751909 ],\n",
       "       [-2.4653184 , -1.1533222 ,  3.4070685 ],\n",
       "       [-2.4661555 , -1.104213  ,  3.2680929 ],\n",
       "       [ 0.2640522 , -0.61165774, -0.3219473 ],\n",
       "       [ 0.2640522 , -0.61165774, -0.3219473 ],\n",
       "       [ 0.2640522 , -0.61165774, -0.3219473 ],\n",
       "       [ 0.2640522 , -0.61165774, -0.3219473 ],\n",
       "       [ 0.2640522 , -0.61165774, -0.3219473 ],\n",
       "       [ 2.5004995 , -1.0065376 , -1.7467753 ],\n",
       "       [-1.9687964 ,  3.4384918 , -0.8481265 ],\n",
       "       [ 0.2640522 , -0.61165774, -0.3219473 ],\n",
       "       [-2.0213153 , -1.6379787 ,  3.4399896 ],\n",
       "       [ 2.684261  , -1.3443964 , -1.9135964 ],\n",
       "       [ 0.2640522 , -0.61165774, -0.3219473 ],\n",
       "       [ 0.2640522 , -0.61165774, -0.3219473 ],\n",
       "       [ 2.5589762 , -0.8309981 , -1.9449221 ],\n",
       "       [ 0.2640522 , -0.61165774, -0.3219473 ],\n",
       "       [ 0.2640522 , -0.61165774, -0.3219473 ],\n",
       "       [-1.9419998 ,  1.639563  ,  0.35350817],\n",
       "       [-1.9419998 ,  1.639563  ,  0.35350817],\n",
       "       [-1.294496  ,  3.3054807 , -1.4425288 ],\n",
       "       [ 2.570462  , -1.2934517 , -1.6863381 ],\n",
       "       [-1.7582345 ,  3.5150268 , -1.1779078 ],\n",
       "       [-2.3978262 , -1.2462208 ,  3.3438354 ],\n",
       "       [-1.3958962 ,  3.494524  , -1.7356678 ],\n",
       "       [-1.7761894 ,  3.533801  , -0.98705995],\n",
       "       [-1.6901004 ,  3.321628  , -1.0531203 ],\n",
       "       [-2.3656518 , -1.3054307 ,  3.45667   ],\n",
       "       [-2.2486465 , -1.4097333 ,  3.4676545 ],\n",
       "       [-2.5524323 , -0.89035434,  3.2621078 ],\n",
       "       [-1.2511396 ,  3.5926702 , -1.7673649 ],\n",
       "       [-2.1255925 , -1.6124957 ,  3.4020925 ],\n",
       "       [-2.153276  , -1.584939  ,  3.4655015 ],\n",
       "       [-2.0999994 , -1.6880653 ,  3.5167    ],\n",
       "       [ 2.0292962 , -1.3864404 , -1.409386  ],\n",
       "       [-1.7865758 ,  3.2250779 , -0.8651905 ],\n",
       "       [-1.5731351 ,  3.6014645 , -1.4151932 ],\n",
       "       [-1.451772  ,  2.9686759 , -1.1405876 ],\n",
       "       [-2.087653  , -1.1953131 ,  3.1639223 ],\n",
       "       [ 2.6742349 , -1.4304233 , -1.8714714 ],\n",
       "       [-1.5481622 ,  3.3896177 , -1.4627341 ],\n",
       "       [-1.3345282 ,  2.7555609 , -1.3885247 ],\n",
       "       [ 0.94736207, -1.1049273 ,  0.26664954],\n",
       "       [-1.9852293 ,  0.89729553,  0.7174198 ],\n",
       "       [ 0.94736207, -1.1049275 ,  0.26664948],\n",
       "       [ 0.4417543 , -0.67187196, -0.39674902],\n",
       "       [-1.985229  ,  0.8972953 ,  0.71741986],\n",
       "       [ 2.997197  , -1.559367  , -2.0497117 ],\n",
       "       [-1.516581  ,  3.3327613 , -1.1474329 ],\n",
       "       [-1.5459294 ,  3.6116168 , -1.4501678 ],\n",
       "       [-2.244113  , -1.3791202 ,  3.4157157 ],\n",
       "       [-1.614641  ,  3.1886256 , -0.8458819 ],\n",
       "       [ 2.8069499 , -1.3102479 , -2.0721679 ],\n",
       "       [-1.4158294 ,  3.2240994 , -1.472804  ],\n",
       "       [-1.444477  ,  3.0229208 , -1.0823784 ],\n",
       "       [-1.4621537 ,  3.549549  , -1.5472997 ],\n",
       "       [-1.7448891 ,  3.4818034 , -1.1201066 ],\n",
       "       [ 0.4417543 , -0.67187196, -0.39674902],\n",
       "       [-1.4017557 ,  3.3904164 , -1.3163255 ],\n",
       "       [-2.4948685 , -1.0747331 ,  3.2897456 ],\n",
       "       [-1.7403244 ,  3.1483445 , -1.0992326 ],\n",
       "       [ 0.4417543 , -0.67187196, -0.39674902],\n",
       "       [ 2.7526329 , -1.1327083 , -1.9340302 ],\n",
       "       [-1.817519  ,  3.6406853 , -1.2127866 ],\n",
       "       [ 0.2640522 , -0.61165774, -0.3219473 ],\n",
       "       [ 0.2640522 , -0.61165774, -0.3219473 ],\n",
       "       [ 0.2640522 , -0.61165774, -0.3219473 ],\n",
       "       [ 0.2640522 , -0.61165774, -0.3219473 ],\n",
       "       [-2.277729  , -1.3945767 ,  3.4448717 ],\n",
       "       [-1.655523  ,  3.5175717 , -1.4340768 ],\n",
       "       [ 0.2640522 , -0.61165774, -0.3219473 ],\n",
       "       [ 0.2640522 , -0.61165774, -0.3219473 ],\n",
       "       [ 0.2640522 , -0.61165774, -0.3219473 ],\n",
       "       [ 0.2640522 , -0.61165774, -0.3219473 ],\n",
       "       [ 0.4417543 , -0.67187196, -0.39674902],\n",
       "       [ 0.26405215, -0.6116577 , -0.32194728],\n",
       "       [ 0.26405215, -0.6116577 , -0.32194728],\n",
       "       [ 0.2640522 , -0.61165774, -0.3219473 ],\n",
       "       [ 3.0293794 , -1.5233936 , -2.079848  ],\n",
       "       [ 2.6478183 , -1.1905038 , -1.9807912 ],\n",
       "       [-2.530605  , -0.9402048 ,  3.344664  ],\n",
       "       [-2.020432  , -1.6664983 ,  3.420804  ],\n",
       "       [ 2.6913705 , -0.9668166 , -2.038568  ],\n",
       "       [-1.7718382 , -1.7891979 ,  3.3197536 ],\n",
       "       [-2.2903059 , -1.1740439 ,  3.4131823 ],\n",
       "       [-1.170716  ,  2.909654  , -1.434415  ],\n",
       "       [-1.6441338 ,  3.3401237 , -1.2551535 ],\n",
       "       [-2.4295602 , -0.8568321 ,  3.2528982 ],\n",
       "       [-2.2478583 , -1.3043041 ,  3.1411579 ],\n",
       "       [ 2.752089  , -1.3550816 , -1.8969207 ],\n",
       "       [-1.7741305 ,  3.3323085 , -1.0906807 ],\n",
       "       [-2.4427736 , -0.7771026 ,  3.296258  ],\n",
       "       [-1.9687276 , -1.7695789 ,  3.4351509 ],\n",
       "       [-2.285128  , -1.2297709 ,  3.3642108 ],\n",
       "       [-2.5787394 ,  1.2045825 ,  1.8067166 ],\n",
       "       [ 0.2640522 , -0.61165774, -0.3219473 ],\n",
       "       [ 0.2640522 , -0.61165774, -0.3219473 ],\n",
       "       [ 2.5866718 , -1.1248887 , -1.8696421 ],\n",
       "       [-1.6706048 ,  3.594953  , -1.3345228 ],\n",
       "       [-0.85681075,  3.2048028 , -2.0652828 ],\n",
       "       [-1.6269209 ,  3.3566155 , -1.3571554 ],\n",
       "       [ 0.4417543 , -0.67187196, -0.39674902],\n",
       "       [ 0.2640522 , -0.61165774, -0.3219473 ],\n",
       "       [ 0.2640522 , -0.61165774, -0.3219473 ],\n",
       "       [ 0.2640522 , -0.61165774, -0.3219473 ],\n",
       "       [ 2.6625822 , -1.1961843 , -1.8712196 ],\n",
       "       [ 2.6407168 , -1.2551668 , -1.7695932 ],\n",
       "       [-2.1142023 , -1.5129738 ,  3.4264567 ],\n",
       "       [-1.5341811 ,  3.366876  , -1.2747895 ],\n",
       "       [-2.5787394 ,  1.2045825 ,  1.8067166 ],\n",
       "       [-1.2891316 ,  3.4810586 , -1.5865134 ],\n",
       "       [ 0.4417543 , -0.67187196, -0.39674902],\n",
       "       [-2.0849524 , -1.6356562 ,  3.3469987 ],\n",
       "       [ 2.7019317 , -0.97024155, -2.173632  ],\n",
       "       [ 0.4417543 , -0.67187196, -0.39674902],\n",
       "       [ 2.74811   , -1.1805774 , -2.0022805 ],\n",
       "       [-1.8674607 ,  2.7388036 , -0.44573748],\n",
       "       [ 2.4740086 , -0.90719604, -1.8355596 ],\n",
       "       [-1.6771537 ,  3.471225  , -1.3093797 ],\n",
       "       [ 2.643953  , -1.564862  , -1.7781852 ],\n",
       "       [-1.8126407 ,  3.3265543 , -0.9026697 ],\n",
       "       [-2.3625808 ,  2.7763019 ,  0.16806202],\n",
       "       [-1.8809386 ,  3.3506515 , -0.68820554],\n",
       "       [-2.116409  , -1.6274204 ,  3.4085653 ],\n",
       "       [ 1.9866109 , -1.3757756 , -1.3814579 ],\n",
       "       [-1.7883922 ,  3.069111  , -0.7878186 ],\n",
       "       [ 2.695089  , -1.3466225 , -1.9236856 ],\n",
       "       [ 2.6571467 , -1.4989889 , -1.8302085 ],\n",
       "       [-1.9956493 ,  2.2527537 ,  0.14127798],\n",
       "       [-2.0176382 ,  2.5441515 , -0.1204663 ],\n",
       "       [ 2.8073356 , -1.2942249 , -2.059345  ],\n",
       "       [-1.6490012 ,  3.6467555 , -1.5696281 ],\n",
       "       [-2.4189394 , -0.45478106,  2.7511451 ],\n",
       "       [ 2.7477665 , -1.1023147 , -1.937956  ],\n",
       "       [ 2.6165977 , -0.8031767 , -2.0500746 ],\n",
       "       [-1.4935169 ,  3.7130227 , -1.6103479 ],\n",
       "       [ 2.431146  , -1.2171406 , -1.8425852 ],\n",
       "       [ 3.0105083 , -1.5338132 , -2.0929487 ],\n",
       "       [ 2.6818874 , -1.5579779 , -1.8688257 ],\n",
       "       [-1.9818846 , -1.3929373 ,  3.2485507 ],\n",
       "       [ 2.6136317 , -1.0836793 , -1.8418247 ],\n",
       "       [-1.7946881 ,  3.3886368 , -0.869778  ],\n",
       "       [-2.4346478 , -0.9880216 ,  3.185963  ],\n",
       "       [-2.3200397 , -1.0726963 ,  3.2169049 ],\n",
       "       [-1.8430725 ,  3.4342363 , -0.9260964 ],\n",
       "       [-2.0205138 , -1.5387459 ,  3.3933003 ],\n",
       "       [-1.4632419 ,  3.642049  , -1.689877  ],\n",
       "       [ 0.7701994 , -1.0596048 ,  0.49338177],\n",
       "       [ 0.7701994 , -1.0596048 ,  0.49338177],\n",
       "       [ 0.2640522 , -0.61165774, -0.3219473 ],\n",
       "       [ 0.2640522 , -0.61165774, -0.3219473 ],\n",
       "       [-2.2863424 , -1.2601126 ,  3.2896287 ],\n",
       "       [-1.616274  ,  3.5199144 , -1.321157  ],\n",
       "       [-1.5476818 ,  3.369669  , -1.1470205 ],\n",
       "       [-2.4511588 , -1.0671914 ,  3.4213166 ],\n",
       "       [ 2.6823685 , -1.3687962 , -1.9175605 ],\n",
       "       [ 2.945623  , -1.6073459 , -1.9512259 ],\n",
       "       [-2.0814335 , -1.4381087 ,  3.4280243 ],\n",
       "       [-2.4271758 , -1.1145003 ,  3.2977588 ],\n",
       "       [-2.087436  , -1.5476798 ,  3.4265683 ],\n",
       "       [-1.5640075 ,  3.2186859 , -1.3788853 ],\n",
       "       [-2.3065932 , -1.1291078 ,  3.3397238 ],\n",
       "       [-1.5720234 ,  3.1861556 , -1.135079  ],\n",
       "       [ 1.2722526 ,  1.374417  , -2.7905152 ],\n",
       "       [-2.2223861 , -1.4417995 ,  3.3925855 ],\n",
       "       [-2.4086642 , -1.2877923 ,  3.4117143 ],\n",
       "       [ 0.2640522 , -0.61165774, -0.3219473 ],\n",
       "       [ 1.2722526 ,  1.374417  , -2.7905152 ],\n",
       "       [ 2.6196792 , -0.96972615, -1.8962206 ],\n",
       "       [ 0.2640522 , -0.61165774, -0.3219473 ],\n",
       "       [ 2.6196792 , -0.96972615, -1.8962206 ],\n",
       "       [-1.4585395 ,  3.2655659 , -1.1982229 ],\n",
       "       [-2.7018788 , -0.49240583,  3.2382088 ],\n",
       "       [-2.1622627 , -1.4585938 ,  3.3474627 ],\n",
       "       [ 0.2640522 , -0.61165774, -0.32194722],\n",
       "       [-2.44752   , -1.2352979 ,  3.4897037 ],\n",
       "       [ 2.6565177 , -1.5784183 , -1.8103254 ],\n",
       "       [-2.291246  , -1.1853104 ,  3.3811264 ],\n",
       "       [ 0.2640522 , -0.61165774, -0.32194722],\n",
       "       [-2.0805633 , -1.5072598 ,  3.345119  ],\n",
       "       [-1.290559  ,  3.5055096 , -1.5865587 ],\n",
       "       [-2.44752   , -1.2352979 ,  3.4897037 ],\n",
       "       [ 0.2640522 , -0.61165774, -0.32194722],\n",
       "       [ 2.7286952 , -1.1899655 , -2.073748  ],\n",
       "       [-1.5356003 ,  3.08615   , -1.1844448 ],\n",
       "       [ 0.4417543 , -0.67187196, -0.39674908],\n",
       "       [ 2.2583382 , -0.99143034, -1.3665911 ],\n",
       "       [ 0.4417543 , -0.67187196, -0.39674908]], dtype=float32), hidden_states=None, attentions=None)"
      ]
     },
     "execution_count": 95,
     "metadata": {},
     "output_type": "execute_result"
    }
   ],
   "source": [
    "prediction2"
   ]
  },
  {
   "cell_type": "code",
   "execution_count": 99,
   "metadata": {},
   "outputs": [],
   "source": [
    "pred_label_BERT=np.argmax(np.concatenate((prediction2[0],prediction[0])),axis=1)"
   ]
  },
  {
   "cell_type": "code",
   "execution_count": 106,
   "metadata": {},
   "outputs": [
    {
     "data": {
      "text/plain": [
       "array([1, 0, 2, 2, 2, 1, 0, 0, 0, 1, 2, 1, 2, 1, 2, 2, 1, 2, 2, 2, 0, 0,\n",
       "       0, 0, 0, 0, 1, 2, 0, 0, 2, 1, 2, 2, 1, 2, 1, 1, 0, 2, 2, 1, 1, 2,\n",
       "       0, 0, 0, 1, 1, 1, 0, 2, 2, 2, 0, 0, 0, 0, 0, 0, 1, 0, 2, 0, 0, 0,\n",
       "       0, 0, 0, 1, 1, 1, 0, 1, 2, 1, 1, 1, 2, 2, 2, 1, 2, 2, 2, 0, 1, 1,\n",
       "       1, 2, 0, 1, 1, 0, 1, 0, 0, 1, 0, 1, 1, 2, 1, 0, 1, 1, 1, 1, 0, 1,\n",
       "       2, 1, 0, 0, 1, 0, 0, 0, 0, 2, 1, 0, 0, 0, 0, 0, 0, 0, 0, 0, 0, 2,\n",
       "       2, 0, 2, 2, 1, 1, 2, 2, 0, 1, 2, 2, 2, 2, 0, 0, 0, 1, 1, 1, 0, 0,\n",
       "       0, 0, 0, 0, 2, 1, 2, 1, 0, 2, 0, 0, 0, 1, 0, 1, 0, 1, 1, 1, 2, 0,\n",
       "       1, 0, 0, 1, 1, 0, 1, 2, 0, 0, 1, 0, 0, 0, 2, 0, 1, 2, 2, 1, 2, 1,\n",
       "       0, 0, 0, 0, 2, 1, 1, 2, 0, 0, 2, 2, 2, 1, 2, 1, 1, 2, 2, 0, 1, 0,\n",
       "       0, 0, 1, 2, 2, 0, 2, 0, 2, 0, 2, 1, 2, 0, 0, 1, 0, 0, 0, 1, 1, 0,\n",
       "       1, 1, 2, 0, 0, 0, 2, 1, 1, 1, 2, 1, 0, 0, 0, 1, 1, 0, 1, 0, 0, 1,\n",
       "       2, 1, 2, 1, 1, 0, 1, 2, 0, 0, 1, 1, 0, 1, 1, 1, 0, 0, 2, 1, 1, 2,\n",
       "       1, 2, 0, 1, 0, 0, 0, 1, 0, 1, 2, 2, 2], dtype=int64)"
      ]
     },
     "execution_count": 106,
     "metadata": {},
     "output_type": "execute_result"
    }
   ],
   "source": [
    "pred_label_BERT"
   ]
  },
  {
   "cell_type": "code",
   "execution_count": 107,
   "metadata": {},
   "outputs": [
    {
     "data": {
      "text/plain": [
       "array([1, 0, 2, 2, 2, 1, 0, 0, 0, 1, 2, 1, 2, 1, 2, 2, 1, 2, 2, 2, 0, 0,\n",
       "       0, 0, 0, 2, 1, 2, 0, 0, 2, 1, 2, 2, 1, 2, 1, 1, 0, 2, 2, 1, 1, 2,\n",
       "       0, 1, 1, 1, 1, 1, 1, 2, 2, 2, 0, 0, 2, 2, 2, 0, 1, 1, 2, 0, 0, 0,\n",
       "       0, 0, 1, 2, 1, 1, 0, 1, 2, 1, 1, 1, 2, 2, 2, 1, 2, 2, 2, 0, 1, 1,\n",
       "       1, 2, 0, 1, 1, 2, 2, 0, 2, 1, 0, 1, 1, 2, 1, 0, 1, 1, 1, 1, 1, 1,\n",
       "       2, 1, 0, 0, 1, 0, 1, 0, 0, 2, 1, 0, 0, 0, 0, 0, 1, 2, 1, 0, 0, 2,\n",
       "       2, 0, 2, 2, 1, 1, 2, 2, 0, 1, 2, 2, 2, 2, 0, 2, 0, 1, 1, 1, 1, 0,\n",
       "       0, 1, 0, 0, 2, 1, 1, 1, 2, 2, 0, 2, 0, 1, 0, 1, 0, 1, 1, 1, 2, 0,\n",
       "       1, 0, 0, 1, 1, 0, 1, 2, 0, 0, 1, 0, 0, 0, 2, 0, 1, 2, 2, 1, 2, 1,\n",
       "       2, 0, 0, 2, 2, 1, 1, 2, 0, 0, 2, 2, 2, 1, 2, 1, 1, 2, 2, 2, 0, 0,\n",
       "       0, 0, 1, 2, 2, 0, 2, 0, 2, 2, 2, 1, 2, 2, 0, 1, 0, 0, 0, 0, 1, 1,\n",
       "       0, 2, 0, 2, 1, 0, 2, 2, 2, 0, 0, 1, 2, 0, 0, 2, 1, 2, 2, 1, 0, 0,\n",
       "       1, 1, 0, 0, 2, 2, 1, 0, 1, 1, 2, 0, 0, 0, 0, 2, 0, 0, 1, 1, 1, 0,\n",
       "       2, 0, 1, 0, 1, 1, 0, 0, 0, 0, 1, 2, 2])"
      ]
     },
     "execution_count": 107,
     "metadata": {},
     "output_type": "execute_result"
    }
   ],
   "source": [
    "np.array(label).T[:-1]"
   ]
  },
  {
   "cell_type": "code",
   "execution_count": 160,
   "metadata": {},
   "outputs": [],
   "source": [
    "import warnings\n",
    "warnings.filterwarnings(\"ignore\")\n",
    "result=pd.DataFrame(pred_label_BERT,columns=['predict'])\n",
    "result['polarity']=polarity[:-1]\n",
    "result['time']=time_list[:-1]\n",
    "result=result[::-1]"
   ]
  },
  {
   "cell_type": "code",
   "execution_count": 161,
   "metadata": {},
   "outputs": [
    {
     "data": {
      "text/html": [
       "<div>\n",
       "<style scoped>\n",
       "    .dataframe tbody tr th:only-of-type {\n",
       "        vertical-align: middle;\n",
       "    }\n",
       "\n",
       "    .dataframe tbody tr th {\n",
       "        vertical-align: top;\n",
       "    }\n",
       "\n",
       "    .dataframe thead th {\n",
       "        text-align: right;\n",
       "    }\n",
       "</style>\n",
       "<table border=\"1\" class=\"dataframe\">\n",
       "  <thead>\n",
       "    <tr style=\"text-align: right;\">\n",
       "      <th></th>\n",
       "      <th>predict</th>\n",
       "      <th>polarity</th>\n",
       "      <th>time</th>\n",
       "    </tr>\n",
       "  </thead>\n",
       "  <tbody>\n",
       "    <tr>\n",
       "      <th>0</th>\n",
       "      <td>2</td>\n",
       "      <td>253</td>\n",
       "      <td>2022/01/07 14:44</td>\n",
       "    </tr>\n",
       "    <tr>\n",
       "      <th>1</th>\n",
       "      <td>2</td>\n",
       "      <td>96</td>\n",
       "      <td>2022/01/07 14:45</td>\n",
       "    </tr>\n",
       "    <tr>\n",
       "      <th>2</th>\n",
       "      <td>2</td>\n",
       "      <td>20</td>\n",
       "      <td>2022/01/07 15:08</td>\n",
       "    </tr>\n",
       "    <tr>\n",
       "      <th>3</th>\n",
       "      <td>1</td>\n",
       "      <td>11</td>\n",
       "      <td>2022/01/07 15:47</td>\n",
       "    </tr>\n",
       "    <tr>\n",
       "      <th>4</th>\n",
       "      <td>0</td>\n",
       "      <td>9</td>\n",
       "      <td>2022/01/07 16:14</td>\n",
       "    </tr>\n",
       "    <tr>\n",
       "      <th>...</th>\n",
       "      <td>...</td>\n",
       "      <td>...</td>\n",
       "      <td>...</td>\n",
       "    </tr>\n",
       "    <tr>\n",
       "      <th>294</th>\n",
       "      <td>2</td>\n",
       "      <td>96</td>\n",
       "      <td>2022/01/12 17:27</td>\n",
       "    </tr>\n",
       "    <tr>\n",
       "      <th>295</th>\n",
       "      <td>2</td>\n",
       "      <td>73</td>\n",
       "      <td>2022/01/12 17:33</td>\n",
       "    </tr>\n",
       "    <tr>\n",
       "      <th>296</th>\n",
       "      <td>2</td>\n",
       "      <td>117</td>\n",
       "      <td>2022/01/12 17:39</td>\n",
       "    </tr>\n",
       "    <tr>\n",
       "      <th>297</th>\n",
       "      <td>0</td>\n",
       "      <td>10</td>\n",
       "      <td>2022/01/12 17:51</td>\n",
       "    </tr>\n",
       "    <tr>\n",
       "      <th>298</th>\n",
       "      <td>1</td>\n",
       "      <td>48</td>\n",
       "      <td>2022/01/12 18:25</td>\n",
       "    </tr>\n",
       "  </tbody>\n",
       "</table>\n",
       "<p>299 rows × 3 columns</p>\n",
       "</div>"
      ],
      "text/plain": [
       "     predict polarity              time\n",
       "0          2      253  2022/01/07 14:44\n",
       "1          2       96  2022/01/07 14:45\n",
       "2          2       20  2022/01/07 15:08\n",
       "3          1       11  2022/01/07 15:47\n",
       "4          0        9  2022/01/07 16:14\n",
       "..       ...      ...               ...\n",
       "294        2       96  2022/01/12 17:27\n",
       "295        2       73  2022/01/12 17:33\n",
       "296        2      117  2022/01/12 17:39\n",
       "297        0       10  2022/01/12 17:51\n",
       "298        1       48  2022/01/12 18:25\n",
       "\n",
       "[299 rows x 3 columns]"
      ]
     },
     "execution_count": 161,
     "metadata": {},
     "output_type": "execute_result"
    }
   ],
   "source": [
    "result.reset_index(drop=True,inplace=True)\n",
    "result"
   ]
  },
  {
   "cell_type": "code",
   "execution_count": 162,
   "metadata": {},
   "outputs": [],
   "source": [
    "result['negative']=0\n",
    "result['positive']=0\n",
    "result['neutral']=0\n",
    "for i in range(len(result)):\n",
    "    if i == 0:\n",
    "        if result['predict'][i] == 2:\n",
    "            result['positive'][i]=int(result['polarity'][i])\n",
    "            \n",
    "        if result['predict'][i] == 1:\n",
    "            result['neutral'][i]=int(result['polarity'][i])\n",
    "            \n",
    "        if result['predict'][i] == 0:\n",
    "            result['negative'][i]=int(result['polarity'][i])\n",
    "    else:       \n",
    "        if result['predict'][i] == 2:\n",
    "            result['positive'][i] = result['positive'][i-1]+int(result['polarity'][i])\n",
    "            result['negative'][i] = result['negative'][i-1]\n",
    "            result['neutral'][i] = result['neutral'][i-1]\n",
    "        if result['predict'][i] == 1:\n",
    "            result['positive'][i] = result['positive'][i-1]\n",
    "            result['negative'][i] = result['negative'][i-1]\n",
    "            result['neutral'][i] = result['neutral'][i-1]+int(result['polarity'][i])\n",
    "        if result['predict'][i] == 0:\n",
    "            result['positive'][i] = result['positive'][i-1]\n",
    "            result['negative'][i] = result['negative'][i-1]+int(result['polarity'][i])\n",
    "            result['neutral'][i] = result['neutral'][i-1]"
   ]
  },
  {
   "cell_type": "code",
   "execution_count": 163,
   "metadata": {},
   "outputs": [
    {
     "data": {
      "text/html": [
       "<div>\n",
       "<style scoped>\n",
       "    .dataframe tbody tr th:only-of-type {\n",
       "        vertical-align: middle;\n",
       "    }\n",
       "\n",
       "    .dataframe tbody tr th {\n",
       "        vertical-align: top;\n",
       "    }\n",
       "\n",
       "    .dataframe thead th {\n",
       "        text-align: right;\n",
       "    }\n",
       "</style>\n",
       "<table border=\"1\" class=\"dataframe\">\n",
       "  <thead>\n",
       "    <tr style=\"text-align: right;\">\n",
       "      <th></th>\n",
       "      <th>predict</th>\n",
       "      <th>polarity</th>\n",
       "      <th>time</th>\n",
       "      <th>negative</th>\n",
       "      <th>positive</th>\n",
       "      <th>neutral</th>\n",
       "    </tr>\n",
       "  </thead>\n",
       "  <tbody>\n",
       "    <tr>\n",
       "      <th>0</th>\n",
       "      <td>2</td>\n",
       "      <td>253</td>\n",
       "      <td>2022/01/07 14:44</td>\n",
       "      <td>0</td>\n",
       "      <td>253</td>\n",
       "      <td>0</td>\n",
       "    </tr>\n",
       "    <tr>\n",
       "      <th>1</th>\n",
       "      <td>2</td>\n",
       "      <td>96</td>\n",
       "      <td>2022/01/07 14:45</td>\n",
       "      <td>0</td>\n",
       "      <td>349</td>\n",
       "      <td>0</td>\n",
       "    </tr>\n",
       "    <tr>\n",
       "      <th>2</th>\n",
       "      <td>2</td>\n",
       "      <td>20</td>\n",
       "      <td>2022/01/07 15:08</td>\n",
       "      <td>0</td>\n",
       "      <td>369</td>\n",
       "      <td>0</td>\n",
       "    </tr>\n",
       "    <tr>\n",
       "      <th>3</th>\n",
       "      <td>1</td>\n",
       "      <td>11</td>\n",
       "      <td>2022/01/07 15:47</td>\n",
       "      <td>0</td>\n",
       "      <td>369</td>\n",
       "      <td>11</td>\n",
       "    </tr>\n",
       "    <tr>\n",
       "      <th>4</th>\n",
       "      <td>0</td>\n",
       "      <td>9</td>\n",
       "      <td>2022/01/07 16:14</td>\n",
       "      <td>9</td>\n",
       "      <td>369</td>\n",
       "      <td>11</td>\n",
       "    </tr>\n",
       "    <tr>\n",
       "      <th>...</th>\n",
       "      <td>...</td>\n",
       "      <td>...</td>\n",
       "      <td>...</td>\n",
       "      <td>...</td>\n",
       "      <td>...</td>\n",
       "      <td>...</td>\n",
       "    </tr>\n",
       "    <tr>\n",
       "      <th>294</th>\n",
       "      <td>2</td>\n",
       "      <td>96</td>\n",
       "      <td>2022/01/12 17:27</td>\n",
       "      <td>3116</td>\n",
       "      <td>9802</td>\n",
       "      <td>3717</td>\n",
       "    </tr>\n",
       "    <tr>\n",
       "      <th>295</th>\n",
       "      <td>2</td>\n",
       "      <td>73</td>\n",
       "      <td>2022/01/12 17:33</td>\n",
       "      <td>3116</td>\n",
       "      <td>9875</td>\n",
       "      <td>3717</td>\n",
       "    </tr>\n",
       "    <tr>\n",
       "      <th>296</th>\n",
       "      <td>2</td>\n",
       "      <td>117</td>\n",
       "      <td>2022/01/12 17:39</td>\n",
       "      <td>3116</td>\n",
       "      <td>9992</td>\n",
       "      <td>3717</td>\n",
       "    </tr>\n",
       "    <tr>\n",
       "      <th>297</th>\n",
       "      <td>0</td>\n",
       "      <td>10</td>\n",
       "      <td>2022/01/12 17:51</td>\n",
       "      <td>3126</td>\n",
       "      <td>9992</td>\n",
       "      <td>3717</td>\n",
       "    </tr>\n",
       "    <tr>\n",
       "      <th>298</th>\n",
       "      <td>1</td>\n",
       "      <td>48</td>\n",
       "      <td>2022/01/12 18:25</td>\n",
       "      <td>3126</td>\n",
       "      <td>9992</td>\n",
       "      <td>3765</td>\n",
       "    </tr>\n",
       "  </tbody>\n",
       "</table>\n",
       "<p>299 rows × 6 columns</p>\n",
       "</div>"
      ],
      "text/plain": [
       "     predict polarity              time  negative  positive  neutral\n",
       "0          2      253  2022/01/07 14:44         0       253        0\n",
       "1          2       96  2022/01/07 14:45         0       349        0\n",
       "2          2       20  2022/01/07 15:08         0       369        0\n",
       "3          1       11  2022/01/07 15:47         0       369       11\n",
       "4          0        9  2022/01/07 16:14         9       369       11\n",
       "..       ...      ...               ...       ...       ...      ...\n",
       "294        2       96  2022/01/12 17:27      3116      9802     3717\n",
       "295        2       73  2022/01/12 17:33      3116      9875     3717\n",
       "296        2      117  2022/01/12 17:39      3116      9992     3717\n",
       "297        0       10  2022/01/12 17:51      3126      9992     3717\n",
       "298        1       48  2022/01/12 18:25      3126      9992     3765\n",
       "\n",
       "[299 rows x 6 columns]"
      ]
     },
     "execution_count": 163,
     "metadata": {},
     "output_type": "execute_result"
    }
   ],
   "source": [
    "result"
   ]
  },
  {
   "cell_type": "code",
   "execution_count": 164,
   "metadata": {},
   "outputs": [],
   "source": [
    "result.set_index(['time'],drop=True,inplace=True)\n",
    "result.drop(columns=['predict','polarity'],inplace=True)"
   ]
  },
  {
   "cell_type": "code",
   "execution_count": 170,
   "metadata": {},
   "outputs": [
    {
     "data": {
      "text/plain": [
       "<AxesSubplot:xlabel='time'>"
      ]
     },
     "execution_count": 170,
     "metadata": {},
     "output_type": "execute_result"
    },
    {
     "data": {
      "image/png": "[encoded data removed]",
      "text/plain": [
       "<Figure size 1152x648 with 1 Axes>"
      ]
     },
     "metadata": {
      "needs_background": "light"
     },
     "output_type": "display_data"
    }
   ],
   "source": [
    "result.plot(figsize=(16,9))"
   ]
  },
  {
   "cell_type": "code",
   "execution_count": null,
   "metadata": {},
   "outputs": [],
   "source": []
  }
 ],
 "metadata": {
  "kernelspec": {
   "display_name": "Python 3",
   "language": "python",
   "name": "python3"
  },
  "language_info": {
   "codemirror_mode": {
    "name": "ipython",
    "version": 3
   },
   "file_extension": ".py",
   "mimetype": "text/x-python",
   "name": "python",
   "nbconvert_exporter": "python",
   "pygments_lexer": "ipython3",
   "version": "3.8.5"
  }
 },
 "nbformat": 4,
 "nbformat_minor": 5
}
